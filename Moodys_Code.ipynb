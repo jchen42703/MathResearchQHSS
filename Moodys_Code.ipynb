{
  "nbformat": 4,
  "nbformat_minor": 0,
  "metadata": {
    "colab": {
      "name": "Moody's Code.ipynb",
      "version": "0.3.2",
      "provenance": [],
      "collapsed_sections": [
        "bvVE_DXCG9i_",
        "fStjD4K3PhV5",
        "Oj1K1N40PaEu",
        "1wIKHY37WN2i",
        "UryDxsqOXKwe",
        "1ATdXWC8ZL-N",
        "if3JnrPbc9N8"
      ]
    },
    "kernelspec": {
      "name": "python3",
      "display_name": "Python 3"
    },
    "accelerator": "GPU"
  },
  "cells": [
    {
      "metadata": {
        "id": "qjFFeCBLkAAk",
        "colab_type": "text"
      },
      "cell_type": "markdown",
      "source": [
        "# Part I: Modeling the Spread of Nicotine Use due to Vaping over the Next 10 Years\n",
        "* Build a mathematical model that predicts the spread of nicotine use due to vaping over the next 10 years. \n",
        "  * We can quantify the the __spread__ of nicotine use due to vaping with the percentage of high school students who used e-cigarettes in the past 30 days.\t\t\t\t\t\t\t\t\t\n",
        "  * We're only modeling for teens.\n",
        "\n",
        "* Then, analyze how the growth of this new form of nicotine use compares to that of cigarettes.\n",
        "  * Need data for % v. time for both vaping and cigarretes\n",
        "  * Can analyze the difference using the mean difference\n"
      ]
    },
    {
      "metadata": {
        "id": "_bw1CjsGj7b_",
        "colab_type": "code",
        "outputId": "3a290153-53e4-4604-fd7d-1487e2d1de25",
        "colab": {
          "resources": {
            "http://localhost:8080/nbextensions/google.colab/files.js": {
              "data": "Ly8gQ29weXJpZ2h0IDIwMTcgR29vZ2xlIExMQwovLwovLyBMaWNlbnNlZCB1bmRlciB0aGUgQXBhY2hlIExpY2Vuc2UsIFZlcnNpb24gMi4wICh0aGUgIkxpY2Vuc2UiKTsKLy8geW91IG1heSBub3QgdXNlIHRoaXMgZmlsZSBleGNlcHQgaW4gY29tcGxpYW5jZSB3aXRoIHRoZSBMaWNlbnNlLgovLyBZb3UgbWF5IG9idGFpbiBhIGNvcHkgb2YgdGhlIExpY2Vuc2UgYXQKLy8KLy8gICAgICBodHRwOi8vd3d3LmFwYWNoZS5vcmcvbGljZW5zZXMvTElDRU5TRS0yLjAKLy8KLy8gVW5sZXNzIHJlcXVpcmVkIGJ5IGFwcGxpY2FibGUgbGF3IG9yIGFncmVlZCB0byBpbiB3cml0aW5nLCBzb2Z0d2FyZQovLyBkaXN0cmlidXRlZCB1bmRlciB0aGUgTGljZW5zZSBpcyBkaXN0cmlidXRlZCBvbiBhbiAiQVMgSVMiIEJBU0lTLAovLyBXSVRIT1VUIFdBUlJBTlRJRVMgT1IgQ09ORElUSU9OUyBPRiBBTlkgS0lORCwgZWl0aGVyIGV4cHJlc3Mgb3IgaW1wbGllZC4KLy8gU2VlIHRoZSBMaWNlbnNlIGZvciB0aGUgc3BlY2lmaWMgbGFuZ3VhZ2UgZ292ZXJuaW5nIHBlcm1pc3Npb25zIGFuZAovLyBsaW1pdGF0aW9ucyB1bmRlciB0aGUgTGljZW5zZS4KCi8qKgogKiBAZmlsZW92ZXJ2aWV3IEhlbHBlcnMgZm9yIGdvb2dsZS5jb2xhYiBQeXRob24gbW9kdWxlLgogKi8KKGZ1bmN0aW9uKHNjb3BlKSB7CmZ1bmN0aW9uIHNwYW4odGV4dCwgc3R5bGVBdHRyaWJ1dGVzID0ge30pIHsKICBjb25zdCBlbGVtZW50ID0gZG9jdW1lbnQuY3JlYXRlRWxlbWVudCgnc3BhbicpOwogIGVsZW1lbnQudGV4dENvbnRlbnQgPSB0ZXh0OwogIGZvciAoY29uc3Qga2V5IG9mIE9iamVjdC5rZXlzKHN0eWxlQXR0cmlidXRlcykpIHsKICAgIGVsZW1lbnQuc3R5bGVba2V5XSA9IHN0eWxlQXR0cmlidXRlc1trZXldOwogIH0KICByZXR1cm4gZWxlbWVudDsKfQoKLy8gTWF4IG51bWJlciBvZiBieXRlcyB3aGljaCB3aWxsIGJlIHVwbG9hZGVkIGF0IGEgdGltZS4KY29uc3QgTUFYX1BBWUxPQURfU0laRSA9IDEwMCAqIDEwMjQ7Ci8vIE1heCBhbW91bnQgb2YgdGltZSB0byBibG9jayB3YWl0aW5nIGZvciB0aGUgdXNlci4KY29uc3QgRklMRV9DSEFOR0VfVElNRU9VVF9NUyA9IDMwICogMTAwMDsKCmZ1bmN0aW9uIF91cGxvYWRGaWxlcyhpbnB1dElkLCBvdXRwdXRJZCkgewogIGNvbnN0IHN0ZXBzID0gdXBsb2FkRmlsZXNTdGVwKGlucHV0SWQsIG91dHB1dElkKTsKICBjb25zdCBvdXRwdXRFbGVtZW50ID0gZG9jdW1lbnQuZ2V0RWxlbWVudEJ5SWQob3V0cHV0SWQpOwogIC8vIENhY2hlIHN0ZXBzIG9uIHRoZSBvdXRwdXRFbGVtZW50IHRvIG1ha2UgaXQgYXZhaWxhYmxlIGZvciB0aGUgbmV4dCBjYWxsCiAgLy8gdG8gdXBsb2FkRmlsZXNDb250aW51ZSBmcm9tIFB5dGhvbi4KICBvdXRwdXRFbGVtZW50LnN0ZXBzID0gc3RlcHM7CgogIHJldHVybiBfdXBsb2FkRmlsZXNDb250aW51ZShvdXRwdXRJZCk7Cn0KCi8vIFRoaXMgaXMgcm91Z2hseSBhbiBhc3luYyBnZW5lcmF0b3IgKG5vdCBzdXBwb3J0ZWQgaW4gdGhlIGJyb3dzZXIgeWV0KSwKLy8gd2hlcmUgdGhlcmUgYXJlIG11bHRpcGxlIGFzeW5jaHJvbm91cyBzdGVwcyBhbmQgdGhlIFB5dGhvbiBzaWRlIGlzIGdvaW5nCi8vIHRvIHBvbGwgZm9yIGNvbXBsZXRpb24gb2YgZWFjaCBzdGVwLgovLyBUaGlzIHVzZXMgYSBQcm9taXNlIHRvIGJsb2NrIHRoZSBweXRob24gc2lkZSBvbiBjb21wbGV0aW9uIG9mIGVhY2ggc3RlcCwKLy8gdGhlbiBwYXNzZXMgdGhlIHJlc3VsdCBvZiB0aGUgcHJldmlvdXMgc3RlcCBhcyB0aGUgaW5wdXQgdG8gdGhlIG5leHQgc3RlcC4KZnVuY3Rpb24gX3VwbG9hZEZpbGVzQ29udGludWUob3V0cHV0SWQpIHsKICBjb25zdCBvdXRwdXRFbGVtZW50ID0gZG9jdW1lbnQuZ2V0RWxlbWVudEJ5SWQob3V0cHV0SWQpOwogIGNvbnN0IHN0ZXBzID0gb3V0cHV0RWxlbWVudC5zdGVwczsKCiAgY29uc3QgbmV4dCA9IHN0ZXBzLm5leHQob3V0cHV0RWxlbWVudC5sYXN0UHJvbWlzZVZhbHVlKTsKICByZXR1cm4gUHJvbWlzZS5yZXNvbHZlKG5leHQudmFsdWUucHJvbWlzZSkudGhlbigodmFsdWUpID0+IHsKICAgIC8vIENhY2hlIHRoZSBsYXN0IHByb21pc2UgdmFsdWUgdG8gbWFrZSBpdCBhdmFpbGFibGUgdG8gdGhlIG5leHQKICAgIC8vIHN0ZXAgb2YgdGhlIGdlbmVyYXRvci4KICAgIG91dHB1dEVsZW1lbnQubGFzdFByb21pc2VWYWx1ZSA9IHZhbHVlOwogICAgcmV0dXJuIG5leHQudmFsdWUucmVzcG9uc2U7CiAgfSk7Cn0KCi8qKgogKiBHZW5lcmF0b3IgZnVuY3Rpb24gd2hpY2ggaXMgY2FsbGVkIGJldHdlZW4gZWFjaCBhc3luYyBzdGVwIG9mIHRoZSB1cGxvYWQKICogcHJvY2Vzcy4KICogQHBhcmFtIHtzdHJpbmd9IGlucHV0SWQgRWxlbWVudCBJRCBvZiB0aGUgaW5wdXQgZmlsZSBwaWNrZXIgZWxlbWVudC4KICogQHBhcmFtIHtzdHJpbmd9IG91dHB1dElkIEVsZW1lbnQgSUQgb2YgdGhlIG91dHB1dCBkaXNwbGF5LgogKiBAcmV0dXJuIHshSXRlcmFibGU8IU9iamVjdD59IEl0ZXJhYmxlIG9mIG5leHQgc3RlcHMuCiAqLwpmdW5jdGlvbiogdXBsb2FkRmlsZXNTdGVwKGlucHV0SWQsIG91dHB1dElkKSB7CiAgY29uc3QgaW5wdXRFbGVtZW50ID0gZG9jdW1lbnQuZ2V0RWxlbWVudEJ5SWQoaW5wdXRJZCk7CiAgaW5wdXRFbGVtZW50LmRpc2FibGVkID0gZmFsc2U7CgogIGNvbnN0IG91dHB1dEVsZW1lbnQgPSBkb2N1bWVudC5nZXRFbGVtZW50QnlJZChvdXRwdXRJZCk7CiAgb3V0cHV0RWxlbWVudC5pbm5lckhUTUwgPSAnJzsKCiAgY29uc3QgcGlja2VkUHJvbWlzZSA9IG5ldyBQcm9taXNlKChyZXNvbHZlKSA9PiB7CiAgICBpbnB1dEVsZW1lbnQuYWRkRXZlbnRMaXN0ZW5lcignY2hhbmdlJywgKGUpID0+IHsKICAgICAgcmVzb2x2ZShlLnRhcmdldC5maWxlcyk7CiAgICB9KTsKICB9KTsKCiAgY29uc3QgY2FuY2VsID0gZG9jdW1lbnQuY3JlYXRlRWxlbWVudCgnYnV0dG9uJyk7CiAgaW5wdXRFbGVtZW50LnBhcmVudEVsZW1lbnQuYXBwZW5kQ2hpbGQoY2FuY2VsKTsKICBjYW5jZWwudGV4dENvbnRlbnQgPSAnQ2FuY2VsIHVwbG9hZCc7CiAgY29uc3QgY2FuY2VsUHJvbWlzZSA9IG5ldyBQcm9taXNlKChyZXNvbHZlKSA9PiB7CiAgICBjYW5jZWwub25jbGljayA9ICgpID0+IHsKICAgICAgcmVzb2x2ZShudWxsKTsKICAgIH07CiAgfSk7CgogIC8vIENhbmNlbCB1cGxvYWQgaWYgdXNlciBoYXNuJ3QgcGlja2VkIGFueXRoaW5nIGluIHRpbWVvdXQuCiAgY29uc3QgdGltZW91dFByb21pc2UgPSBuZXcgUHJvbWlzZSgocmVzb2x2ZSkgPT4gewogICAgc2V0VGltZW91dCgoKSA9PiB7CiAgICAgIHJlc29sdmUobnVsbCk7CiAgICB9LCBGSUxFX0NIQU5HRV9USU1FT1VUX01TKTsKICB9KTsKCiAgLy8gV2FpdCBmb3IgdGhlIHVzZXIgdG8gcGljayB0aGUgZmlsZXMuCiAgY29uc3QgZmlsZXMgPSB5aWVsZCB7CiAgICBwcm9taXNlOiBQcm9taXNlLnJhY2UoW3BpY2tlZFByb21pc2UsIHRpbWVvdXRQcm9taXNlLCBjYW5jZWxQcm9taXNlXSksCiAgICByZXNwb25zZTogewogICAgICBhY3Rpb246ICdzdGFydGluZycsCiAgICB9CiAgfTsKCiAgaWYgKCFmaWxlcykgewogICAgcmV0dXJuIHsKICAgICAgcmVzcG9uc2U6IHsKICAgICAgICBhY3Rpb246ICdjb21wbGV0ZScsCiAgICAgIH0KICAgIH07CiAgfQoKICBjYW5jZWwucmVtb3ZlKCk7CgogIC8vIERpc2FibGUgdGhlIGlucHV0IGVsZW1lbnQgc2luY2UgZnVydGhlciBwaWNrcyBhcmUgbm90IGFsbG93ZWQuCiAgaW5wdXRFbGVtZW50LmRpc2FibGVkID0gdHJ1ZTsKCiAgZm9yIChjb25zdCBmaWxlIG9mIGZpbGVzKSB7CiAgICBjb25zdCBsaSA9IGRvY3VtZW50LmNyZWF0ZUVsZW1lbnQoJ2xpJyk7CiAgICBsaS5hcHBlbmQoc3BhbihmaWxlLm5hbWUsIHtmb250V2VpZ2h0OiAnYm9sZCd9KSk7CiAgICBsaS5hcHBlbmQoc3BhbigKICAgICAgICBgKCR7ZmlsZS50eXBlIHx8ICduL2EnfSkgLSAke2ZpbGUuc2l6ZX0gYnl0ZXMsIGAgKwogICAgICAgIGBsYXN0IG1vZGlmaWVkOiAkewogICAgICAgICAgICBmaWxlLmxhc3RNb2RpZmllZERhdGUgPyBmaWxlLmxhc3RNb2RpZmllZERhdGUudG9Mb2NhbGVEYXRlU3RyaW5nKCkgOgogICAgICAgICAgICAgICAgICAgICAgICAgICAgICAgICAgICAnbi9hJ30gLSBgKSk7CiAgICBjb25zdCBwZXJjZW50ID0gc3BhbignMCUgZG9uZScpOwogICAgbGkuYXBwZW5kQ2hpbGQocGVyY2VudCk7CgogICAgb3V0cHV0RWxlbWVudC5hcHBlbmRDaGlsZChsaSk7CgogICAgY29uc3QgZmlsZURhdGFQcm9taXNlID0gbmV3IFByb21pc2UoKHJlc29sdmUpID0+IHsKICAgICAgY29uc3QgcmVhZGVyID0gbmV3IEZpbGVSZWFkZXIoKTsKICAgICAgcmVhZGVyLm9ubG9hZCA9IChlKSA9PiB7CiAgICAgICAgcmVzb2x2ZShlLnRhcmdldC5yZXN1bHQpOwogICAgICB9OwogICAgICByZWFkZXIucmVhZEFzQXJyYXlCdWZmZXIoZmlsZSk7CiAgICB9KTsKICAgIC8vIFdhaXQgZm9yIHRoZSBkYXRhIHRvIGJlIHJlYWR5LgogICAgbGV0IGZpbGVEYXRhID0geWllbGQgewogICAgICBwcm9taXNlOiBmaWxlRGF0YVByb21pc2UsCiAgICAgIHJlc3BvbnNlOiB7CiAgICAgICAgYWN0aW9uOiAnY29udGludWUnLAogICAgICB9CiAgICB9OwoKICAgIC8vIFVzZSBhIGNodW5rZWQgc2VuZGluZyB0byBhdm9pZCBtZXNzYWdlIHNpemUgbGltaXRzLiBTZWUgYi82MjExNTY2MC4KICAgIGxldCBwb3NpdGlvbiA9IDA7CiAgICB3aGlsZSAocG9zaXRpb24gPCBmaWxlRGF0YS5ieXRlTGVuZ3RoKSB7CiAgICAgIGNvbnN0IGxlbmd0aCA9IE1hdGgubWluKGZpbGVEYXRhLmJ5dGVMZW5ndGggLSBwb3NpdGlvbiwgTUFYX1BBWUxPQURfU0laRSk7CiAgICAgIGNvbnN0IGNodW5rID0gbmV3IFVpbnQ4QXJyYXkoZmlsZURhdGEsIHBvc2l0aW9uLCBsZW5ndGgpOwogICAgICBwb3NpdGlvbiArPSBsZW5ndGg7CgogICAgICBjb25zdCBiYXNlNjQgPSBidG9hKFN0cmluZy5mcm9tQ2hhckNvZGUuYXBwbHkobnVsbCwgY2h1bmspKTsKICAgICAgeWllbGQgewogICAgICAgIHJlc3BvbnNlOiB7CiAgICAgICAgICBhY3Rpb246ICdhcHBlbmQnLAogICAgICAgICAgZmlsZTogZmlsZS5uYW1lLAogICAgICAgICAgZGF0YTogYmFzZTY0LAogICAgICAgIH0sCiAgICAgIH07CiAgICAgIHBlcmNlbnQudGV4dENvbnRlbnQgPQogICAgICAgICAgYCR7TWF0aC5yb3VuZCgocG9zaXRpb24gLyBmaWxlRGF0YS5ieXRlTGVuZ3RoKSAqIDEwMCl9JSBkb25lYDsKICAgIH0KICB9CgogIC8vIEFsbCBkb25lLgogIHlpZWxkIHsKICAgIHJlc3BvbnNlOiB7CiAgICAgIGFjdGlvbjogJ2NvbXBsZXRlJywKICAgIH0KICB9Owp9CgpzY29wZS5nb29nbGUgPSBzY29wZS5nb29nbGUgfHwge307CnNjb3BlLmdvb2dsZS5jb2xhYiA9IHNjb3BlLmdvb2dsZS5jb2xhYiB8fCB7fTsKc2NvcGUuZ29vZ2xlLmNvbGFiLl9maWxlcyA9IHsKICBfdXBsb2FkRmlsZXMsCiAgX3VwbG9hZEZpbGVzQ29udGludWUsCn07Cn0pKHNlbGYpOwo=",
              "ok": true,
              "headers": [
                [
                  "content-type",
                  "application/javascript"
                ]
              ],
              "status": 200,
              "status_text": ""
            }
          },
          "base_uri": "https://localhost:8080/",
          "height": 113
        }
      },
      "cell_type": "code",
      "source": [
        "from google.colab import files\n",
        "files.upload()"
      ],
      "execution_count": 0,
      "outputs": [
        {
          "output_type": "display_data",
          "data": {
            "text/html": [
              "\n",
              "     <input type=\"file\" id=\"files-af1e7468-8a10-4ec1-a360-1272e3574133\" name=\"files[]\" multiple disabled />\n",
              "     <output id=\"result-af1e7468-8a10-4ec1-a360-1272e3574133\">\n",
              "      Upload widget is only available when the cell has been executed in the\n",
              "      current browser session. Please rerun this cell to enable.\n",
              "      </output>\n",
              "      <script src=\"/nbextensions/google.colab/files.js\"></script> "
            ],
            "text/plain": [
              "<IPython.core.display.HTML object>"
            ]
          },
          "metadata": {
            "tags": []
          }
        },
        {
          "output_type": "stream",
          "text": [
            "Saving high_school_vaping_cigarettes_data.csv to high_school_vaping_cigarettes_data.csv\n"
          ],
          "name": "stdout"
        },
        {
          "output_type": "execute_result",
          "data": {
            "text/plain": [
              "{'high_school_vaping_cigarettes_data.csv': b'Year,Vaping_Overall_Percentage,Cigarettes_Overall_Percentage\\r\\n2011,1.5,11.7\\r\\n2012,2.8,10.6\\r\\n2013,4.5,9.6\\r\\n2014,13.4,8\\r\\n2015,16,9.3\\r\\n2016,11.3,8\\r\\n2017,11.7,7.6\\r\\n2018,20.8,8.1'}"
            ]
          },
          "metadata": {
            "tags": []
          },
          "execution_count": 97
        }
      ]
    },
    {
      "metadata": {
        "id": "m9mYIRCb5pW7",
        "colab_type": "code",
        "outputId": "ac51ffd3-8751-4e5b-cd5c-d9007b8c1a6d",
        "colab": {
          "base_uri": "https://localhost:8080/",
          "height": 156
        }
      },
      "cell_type": "code",
      "source": [
        "! pip install statsmodels"
      ],
      "execution_count": 0,
      "outputs": [
        {
          "output_type": "stream",
          "text": [
            "Requirement already satisfied: statsmodels in /usr/local/lib/python3.6/dist-packages (0.8.0)\n",
            "Requirement already satisfied: patsy in /usr/local/lib/python3.6/dist-packages (from statsmodels) (0.5.1)\n",
            "Requirement already satisfied: scipy in /usr/local/lib/python3.6/dist-packages (from statsmodels) (1.1.0)\n",
            "Requirement already satisfied: pandas in /usr/local/lib/python3.6/dist-packages (from statsmodels) (0.22.0)\n",
            "Requirement already satisfied: six in /usr/local/lib/python3.6/dist-packages (from patsy->statsmodels) (1.11.0)\n",
            "Requirement already satisfied: numpy>=1.4 in /usr/local/lib/python3.6/dist-packages (from patsy->statsmodels) (1.14.6)\n",
            "Requirement already satisfied: pytz>=2011k in /usr/local/lib/python3.6/dist-packages (from pandas->statsmodels) (2018.9)\n",
            "Requirement already satisfied: python-dateutil>=2 in /usr/local/lib/python3.6/dist-packages (from pandas->statsmodels) (2.5.3)\n"
          ],
          "name": "stdout"
        }
      ]
    },
    {
      "metadata": {
        "id": "bpUbqJCX39hi",
        "colab_type": "text"
      },
      "cell_type": "markdown",
      "source": [
        "## Vaping "
      ]
    },
    {
      "metadata": {
        "id": "8e2pVvaxyZIy",
        "colab_type": "code",
        "outputId": "3983cf3c-8313-4e4e-94e3-d0a85eabb413",
        "colab": {
          "base_uri": "https://localhost:8080/",
          "height": 294
        }
      },
      "cell_type": "code",
      "source": [
        "import pandas as pd\n",
        "df = pd.read_csv('high_school_vaping_cigarettes_data.csv')\n",
        "# df['Year'] = (df['Year'] - df['Year'].min()).reshape(-1, 1)\n",
        "df['Vaping_Overall_Percentage'] = df['Vaping_Overall_Percentage'] / 100\n",
        "df"
      ],
      "execution_count": 0,
      "outputs": [
        {
          "output_type": "execute_result",
          "data": {
            "text/html": [
              "<div>\n",
              "<style scoped>\n",
              "    .dataframe tbody tr th:only-of-type {\n",
              "        vertical-align: middle;\n",
              "    }\n",
              "\n",
              "    .dataframe tbody tr th {\n",
              "        vertical-align: top;\n",
              "    }\n",
              "\n",
              "    .dataframe thead th {\n",
              "        text-align: right;\n",
              "    }\n",
              "</style>\n",
              "<table border=\"1\" class=\"dataframe\">\n",
              "  <thead>\n",
              "    <tr style=\"text-align: right;\">\n",
              "      <th></th>\n",
              "      <th>Year</th>\n",
              "      <th>Vaping_Overall_Percentage</th>\n",
              "      <th>Cigarettes_Overall_Percentage</th>\n",
              "    </tr>\n",
              "  </thead>\n",
              "  <tbody>\n",
              "    <tr>\n",
              "      <th>0</th>\n",
              "      <td>2011</td>\n",
              "      <td>0.015</td>\n",
              "      <td>11.7</td>\n",
              "    </tr>\n",
              "    <tr>\n",
              "      <th>1</th>\n",
              "      <td>2012</td>\n",
              "      <td>0.028</td>\n",
              "      <td>10.6</td>\n",
              "    </tr>\n",
              "    <tr>\n",
              "      <th>2</th>\n",
              "      <td>2013</td>\n",
              "      <td>0.045</td>\n",
              "      <td>9.6</td>\n",
              "    </tr>\n",
              "    <tr>\n",
              "      <th>3</th>\n",
              "      <td>2014</td>\n",
              "      <td>0.134</td>\n",
              "      <td>8.0</td>\n",
              "    </tr>\n",
              "    <tr>\n",
              "      <th>4</th>\n",
              "      <td>2015</td>\n",
              "      <td>0.160</td>\n",
              "      <td>9.3</td>\n",
              "    </tr>\n",
              "    <tr>\n",
              "      <th>5</th>\n",
              "      <td>2016</td>\n",
              "      <td>0.113</td>\n",
              "      <td>8.0</td>\n",
              "    </tr>\n",
              "    <tr>\n",
              "      <th>6</th>\n",
              "      <td>2017</td>\n",
              "      <td>0.117</td>\n",
              "      <td>7.6</td>\n",
              "    </tr>\n",
              "    <tr>\n",
              "      <th>7</th>\n",
              "      <td>2018</td>\n",
              "      <td>0.208</td>\n",
              "      <td>8.1</td>\n",
              "    </tr>\n",
              "  </tbody>\n",
              "</table>\n",
              "</div>"
            ],
            "text/plain": [
              "   Year  Vaping_Overall_Percentage  Cigarettes_Overall_Percentage\n",
              "0  2011                      0.015                           11.7\n",
              "1  2012                      0.028                           10.6\n",
              "2  2013                      0.045                            9.6\n",
              "3  2014                      0.134                            8.0\n",
              "4  2015                      0.160                            9.3\n",
              "5  2016                      0.113                            8.0\n",
              "6  2017                      0.117                            7.6\n",
              "7  2018                      0.208                            8.1"
            ]
          },
          "metadata": {
            "tags": []
          },
          "execution_count": 326
        }
      ]
    },
    {
      "metadata": {
        "id": "8HeT2CgpBsuU",
        "colab_type": "code",
        "outputId": "a4efd7a5-a3cb-4edf-c453-45b67fee5310",
        "colab": {
          "base_uri": "https://localhost:8080/",
          "height": 555
        }
      },
      "cell_type": "code",
      "source": [
        "import statsmodels.formula.api as smf\n",
        "\n",
        "smresults = smf.ols(\"Vaping_Overall_Percentage ~ Year\", df).fit()\n",
        "\n",
        "df['pred'] = smresults.predict() \n",
        "print(smresults.summary(), smresults.params)"
      ],
      "execution_count": 0,
      "outputs": [
        {
          "output_type": "stream",
          "text": [
            "                                OLS Regression Results                               \n",
            "=====================================================================================\n",
            "Dep. Variable:     Vaping_Overall_Percentage   R-squared:                       0.757\n",
            "Model:                                   OLS   Adj. R-squared:                  0.717\n",
            "Method:                        Least Squares   F-statistic:                     18.72\n",
            "Date:                       Sat, 02 Mar 2019   Prob (F-statistic):            0.00494\n",
            "Time:                               00:00:55   Log-Likelihood:                 16.366\n",
            "No. Observations:                          8   AIC:                            -28.73\n",
            "Df Residuals:                              6   BIC:                            -28.57\n",
            "Df Model:                                  1                                         \n",
            "Covariance Type:                   nonrobust                                         \n",
            "==============================================================================\n",
            "                 coef    std err          t      P>|t|      [0.025      0.975]\n",
            "------------------------------------------------------------------------------\n",
            "Intercept    -48.4853     11.229     -4.318      0.005     -75.961     -21.010\n",
            "Year           0.0241      0.006      4.327      0.005       0.010       0.038\n",
            "==============================================================================\n",
            "Omnibus:                        1.021   Durbin-Watson:                   1.829\n",
            "Prob(Omnibus):                  0.600   Jarque-Bera (JB):                0.631\n",
            "Skew:                           0.246   Prob(JB):                        0.729\n",
            "Kurtosis:                       1.715   Cond. No.                     1.77e+06\n",
            "==============================================================================\n",
            "\n",
            "Warnings:\n",
            "[1] Standard Errors assume that the covariance matrix of the errors is correctly specified.\n",
            "[2] The condition number is large, 1.77e+06. This might indicate that there are\n",
            "strong multicollinearity or other numerical problems. Intercept   -48.485321\n",
            "Year          0.024119\n",
            "dtype: float64\n"
          ],
          "name": "stdout"
        },
        {
          "output_type": "stream",
          "text": [
            "/usr/local/lib/python3.6/dist-packages/scipy/stats/stats.py:1394: UserWarning: kurtosistest only valid for n>=20 ... continuing anyway, n=8\n",
            "  \"anyway, n=%i\" % int(n))\n"
          ],
          "name": "stderr"
        }
      ]
    },
    {
      "metadata": {
        "id": "bvVE_DXCG9i_",
        "colab_type": "text"
      },
      "cell_type": "markdown",
      "source": [
        "### Regression Assumptions\n",
        " * Meets all assumptions: Linearity, Homoscedasticity, Normality"
      ]
    },
    {
      "metadata": {
        "id": "SpHd9BftHGYk",
        "colab_type": "code",
        "outputId": "333bfe31-5b40-4306-d9a6-52f30382c451",
        "colab": {
          "base_uri": "https://localhost:8080/",
          "height": 185
        }
      },
      "cell_type": "code",
      "source": [
        "pred_val = smresults.fittedvalues.copy()\n",
        "true_val = df['Vaping_Overall_Percentage'].values.copy()\n",
        "residual = true_val - pred_val\n",
        "fig, ax = plt.subplots(figsize = (6, 2.5))\n",
        "_ = ax.scatter(residual, pred_val)"
      ],
      "execution_count": 0,
      "outputs": [
        {
          "output_type": "display_data",
          "data": {
            "image/png": "[encoded data removed]",
            "text/plain": [
              "<Figure size 432x180 with 1 Axes>"
            ]
          },
          "metadata": {
            "tags": []
          }
        }
      ]
    },
    {
      "metadata": {
        "id": "jssnS37tHoL1",
        "colab_type": "code",
        "outputId": "acaecc35-95f7-4368-eae7-9b8e0b597cbd",
        "colab": {
          "base_uri": "https://localhost:8080/",
          "height": 35
        }
      },
      "cell_type": "code",
      "source": [
        "# testing linearity\n",
        "import statsmodels.stats.api as sms\n",
        "# if significant, then not linear; if not significant, then linear\n",
        "sms.linear_harvey_collier(smresults)\n"
      ],
      "execution_count": 0,
      "outputs": [
        {
          "output_type": "execute_result",
          "data": {
            "text/plain": [
              "Ttest_1sampResult(statistic=-0.27946741729140073, pvalue=0.7937414140360102)"
            ]
          },
          "metadata": {
            "tags": []
          },
          "execution_count": 316
        }
      ]
    },
    {
      "metadata": {
        "id": "1BC1pesWII0E",
        "colab_type": "code",
        "outputId": "51e9cf89-73d3-4d04-f6d2-1a72791dcff6",
        "colab": {
          "base_uri": "https://localhost:8080/",
          "height": 35
        }
      },
      "cell_type": "code",
      "source": [
        "import statsmodels\n",
        "# testing equal variance and homoscedasticity\n",
        "double = pd.DataFrame(pd.np.tile(df['Vaping_Overall_Percentage'], (2, 1))).T\n",
        "# if significant, then heteroscedasticity; if not significant, then equal variance\n",
        "fstat, pval,_ = statsmodels.stats.diagnostic.het_goldfeldquandt(residual, double)\n",
        "print(\"F-Statistic: \", fstat, \"P-Value: \", pval)"
      ],
      "execution_count": 0,
      "outputs": [
        {
          "output_type": "stream",
          "text": [
            "F-Statistic:  3.1628245673540896 P-Value:  0.18479030444671207\n"
          ],
          "name": "stdout"
        }
      ]
    },
    {
      "metadata": {
        "id": "DQWpiOr-O5fM",
        "colab_type": "code",
        "outputId": "d5aa2c11-b61a-4571-f27a-c23f93ccec8f",
        "colab": {
          "base_uri": "https://localhost:8080/",
          "height": 231
        }
      },
      "cell_type": "code",
      "source": [
        "# testing normality, if r-squared is high, then normality is met\n",
        "import scipy as sp\n",
        "fig, ax = plt.subplots(figsize=(6,2.5))\n",
        "_, (__, ___, r) = sp.stats.probplot(residual, plot = ax, fit = True)\n",
        "print(\"R-Squared:\", r**2)"
      ],
      "execution_count": 0,
      "outputs": [
        {
          "output_type": "stream",
          "text": [
            "R-Squared: 0.9457554576773988\n"
          ],
          "name": "stdout"
        },
        {
          "output_type": "display_data",
          "data": {
            "image/png": "[encoded data removed]",
            "text/plain": [
              "<Figure size 432x180 with 1 Axes>"
            ]
          },
          "metadata": {
            "tags": []
          }
        }
      ]
    },
    {
      "metadata": {
        "id": "Hk0Xdh-mG--e",
        "colab_type": "text"
      },
      "cell_type": "markdown",
      "source": [
        "### Plotting with Sklearn and Matplotlib"
      ]
    },
    {
      "metadata": {
        "id": "tYKXhpdXyjeJ",
        "colab_type": "code",
        "outputId": "ea35f865-1132-467b-8837-91210df050e5",
        "colab": {
          "base_uri": "https://localhost:8080/",
          "height": 35
        }
      },
      "cell_type": "code",
      "source": [
        "# sklearn\n",
        "from sklearn import linear_model\n",
        "x = df['Year'].values.reshape(-1, 1) \n",
        "# x = (df['Year'] - df['Year'].min()).reshape(-1, 1) # for transforming years to time from 2011\n",
        "y = df['Vaping_Overall_Percentage'] \n",
        "reg = linear_model.LinearRegression()\n",
        "reg.fit(x, y)\n",
        "\n",
        "reg.coef_, reg.intercept_\n"
      ],
      "execution_count": 0,
      "outputs": [
        {
          "output_type": "execute_result",
          "data": {
            "text/plain": [
              "(array([0.02411905]), -48.48532142857144)"
            ]
          },
          "metadata": {
            "tags": []
          },
          "execution_count": 329
        }
      ]
    },
    {
      "metadata": {
        "id": "UT1NaOLJ64pH",
        "colab_type": "code",
        "outputId": "8191cf6b-4d5d-48c3-8e0c-ac114a023d36",
        "colab": {
          "base_uri": "https://localhost:8080/",
          "height": 35
        }
      },
      "cell_type": "code",
      "source": [
        "import numpy as np\n",
        "experimental = np.arange(2019, 2029).reshape(-1, 1)\n",
        "# experimental = np.arange(8, 18).reshape(-1, 1)\n",
        "print(experimental.size)\n",
        "predicted = reg.predict(experimental)"
      ],
      "execution_count": 0,
      "outputs": [
        {
          "output_type": "stream",
          "text": [
            "10\n"
          ],
          "name": "stdout"
        }
      ]
    },
    {
      "metadata": {
        "id": "nsbizNuNAwAn",
        "colab_type": "code",
        "outputId": "b4cbcec0-27a8-4c07-db36-e31be9e9bb88",
        "colab": {
          "base_uri": "https://localhost:8080/",
          "height": 363
        }
      },
      "cell_type": "code",
      "source": [
        "import matplotlib.pyplot as plt\n",
        "total_x = np.concatenate([x, experimental], axis = 0)\n",
        "total_y = np.concatenate([y, predicted], axis = 0)\n",
        "m = reg.coef_\n",
        "b = reg.intercept_\n",
        "plt.scatter(total_x, total_y)\n",
        "plt.plot(total_x, m * total_x + b, '-')\n",
        "plt.title(\"Projected Vape Use over the Next 10 Years for Teens\")\n",
        "plt.show()"
      ],
      "execution_count": 0,
      "outputs": [
        {
          "output_type": "display_data",
          "data": {
            "image/png": "[encoded data removed]",
            "text/plain": [
              "<Figure size 576x396 with 1 Axes>"
            ]
          },
          "metadata": {
            "tags": []
          }
        }
      ]
    },
    {
      "metadata": {
        "id": "FdP1LZXZ62mM",
        "colab_type": "text"
      },
      "cell_type": "markdown",
      "source": [
        "## Cigarettes"
      ]
    },
    {
      "metadata": {
        "id": "4giSTHBy2nx6",
        "colab_type": "code",
        "outputId": "1001a7e5-cdff-495b-84be-9f896b4654ea",
        "colab": {
          "base_uri": "https://localhost:8080/",
          "height": 294
        }
      },
      "cell_type": "code",
      "source": [
        "import pandas as pd\n",
        "df = pd.read_csv('high_school_vaping_cigarettes_data.csv')\n",
        "# df['Year'] = (df['Year'] - df['Year'].min()).reshape(-1, 1)\n",
        "df['Cigarettes_Overall_Percentage'] = df['Cigarettes_Overall_Percentage'] / 100\n",
        "df"
      ],
      "execution_count": 0,
      "outputs": [
        {
          "output_type": "execute_result",
          "data": {
            "text/html": [
              "<div>\n",
              "<style scoped>\n",
              "    .dataframe tbody tr th:only-of-type {\n",
              "        vertical-align: middle;\n",
              "    }\n",
              "\n",
              "    .dataframe tbody tr th {\n",
              "        vertical-align: top;\n",
              "    }\n",
              "\n",
              "    .dataframe thead th {\n",
              "        text-align: right;\n",
              "    }\n",
              "</style>\n",
              "<table border=\"1\" class=\"dataframe\">\n",
              "  <thead>\n",
              "    <tr style=\"text-align: right;\">\n",
              "      <th></th>\n",
              "      <th>Year</th>\n",
              "      <th>Vaping_Overall_Percentage</th>\n",
              "      <th>Cigarettes_Overall_Percentage</th>\n",
              "    </tr>\n",
              "  </thead>\n",
              "  <tbody>\n",
              "    <tr>\n",
              "      <th>0</th>\n",
              "      <td>2011</td>\n",
              "      <td>1.5</td>\n",
              "      <td>0.117</td>\n",
              "    </tr>\n",
              "    <tr>\n",
              "      <th>1</th>\n",
              "      <td>2012</td>\n",
              "      <td>2.8</td>\n",
              "      <td>0.106</td>\n",
              "    </tr>\n",
              "    <tr>\n",
              "      <th>2</th>\n",
              "      <td>2013</td>\n",
              "      <td>4.5</td>\n",
              "      <td>0.096</td>\n",
              "    </tr>\n",
              "    <tr>\n",
              "      <th>3</th>\n",
              "      <td>2014</td>\n",
              "      <td>13.4</td>\n",
              "      <td>0.080</td>\n",
              "    </tr>\n",
              "    <tr>\n",
              "      <th>4</th>\n",
              "      <td>2015</td>\n",
              "      <td>16.0</td>\n",
              "      <td>0.093</td>\n",
              "    </tr>\n",
              "    <tr>\n",
              "      <th>5</th>\n",
              "      <td>2016</td>\n",
              "      <td>11.3</td>\n",
              "      <td>0.080</td>\n",
              "    </tr>\n",
              "    <tr>\n",
              "      <th>6</th>\n",
              "      <td>2017</td>\n",
              "      <td>11.7</td>\n",
              "      <td>0.076</td>\n",
              "    </tr>\n",
              "    <tr>\n",
              "      <th>7</th>\n",
              "      <td>2018</td>\n",
              "      <td>20.8</td>\n",
              "      <td>0.081</td>\n",
              "    </tr>\n",
              "  </tbody>\n",
              "</table>\n",
              "</div>"
            ],
            "text/plain": [
              "   Year  Vaping_Overall_Percentage  Cigarettes_Overall_Percentage\n",
              "0  2011                        1.5                          0.117\n",
              "1  2012                        2.8                          0.106\n",
              "2  2013                        4.5                          0.096\n",
              "3  2014                       13.4                          0.080\n",
              "4  2015                       16.0                          0.093\n",
              "5  2016                       11.3                          0.080\n",
              "6  2017                       11.7                          0.076\n",
              "7  2018                       20.8                          0.081"
            ]
          },
          "metadata": {
            "tags": []
          },
          "execution_count": 319
        }
      ]
    },
    {
      "metadata": {
        "id": "ObgJXnSe5um2",
        "colab_type": "code",
        "outputId": "118fb8cf-0e2d-459d-c8f8-529c30fc3b6f",
        "colab": {
          "base_uri": "https://localhost:8080/",
          "height": 555
        }
      },
      "cell_type": "code",
      "source": [
        "import statsmodels.formula.api as smf\n",
        "\n",
        "smresults = smf.ols(\"Cigarettes_Overall_Percentage ~ Year\", df).fit()\n",
        "\n",
        "df['pred'] = smresults.predict() \n",
        "print(smresults.summary(), smresults.params)"
      ],
      "execution_count": 0,
      "outputs": [
        {
          "output_type": "stream",
          "text": [
            "                                  OLS Regression Results                                 \n",
            "=========================================================================================\n",
            "Dep. Variable:     Cigarettes_Overall_Percentage   R-squared:                       0.759\n",
            "Model:                                       OLS   Adj. R-squared:                  0.719\n",
            "Method:                            Least Squares   F-statistic:                     18.94\n",
            "Date:                           Sat, 02 Mar 2019   Prob (F-statistic):            0.00481\n",
            "Time:                                   00:02:07   Log-Likelihood:                 28.682\n",
            "No. Observations:                              8   AIC:                            -53.36\n",
            "Df Residuals:                                  6   BIC:                            -53.21\n",
            "Df Model:                                      1                                         \n",
            "Covariance Type:                       nonrobust                                         \n",
            "==============================================================================\n",
            "                 coef    std err          t      P>|t|      [0.025      0.975]\n",
            "------------------------------------------------------------------------------\n",
            "Intercept     10.5713      2.408      4.390      0.005       4.678      16.464\n",
            "Year          -0.0052      0.001     -4.352      0.005      -0.008      -0.002\n",
            "==============================================================================\n",
            "Omnibus:                        1.661   Durbin-Watson:                   1.863\n",
            "Prob(Omnibus):                  0.436   Jarque-Bera (JB):                0.601\n",
            "Skew:                          -0.655   Prob(JB):                        0.741\n",
            "Kurtosis:                       2.705   Cond. No.                     1.77e+06\n",
            "==============================================================================\n",
            "\n",
            "Warnings:\n",
            "[1] Standard Errors assume that the covariance matrix of the errors is correctly specified.\n",
            "[2] The condition number is large, 1.77e+06. This might indicate that there are\n",
            "strong multicollinearity or other numerical problems. Intercept    10.571321\n",
            "Year         -0.005202\n",
            "dtype: float64\n"
          ],
          "name": "stdout"
        },
        {
          "output_type": "stream",
          "text": [
            "/usr/local/lib/python3.6/dist-packages/scipy/stats/stats.py:1394: UserWarning: kurtosistest only valid for n>=20 ... continuing anyway, n=8\n",
            "  \"anyway, n=%i\" % int(n))\n"
          ],
          "name": "stderr"
        }
      ]
    },
    {
      "metadata": {
        "id": "fStjD4K3PhV5",
        "colab_type": "text"
      },
      "cell_type": "markdown",
      "source": [
        "### Regression Assumptions\n",
        " * Meets all assumptions: Linearity, Homoscedasticity, Normality"
      ]
    },
    {
      "metadata": {
        "id": "IcrD-bxyPhJZ",
        "colab_type": "code",
        "outputId": "d6d40a50-e664-49be-c6ee-ec20083b882b",
        "colab": {
          "base_uri": "https://localhost:8080/",
          "height": 183
        }
      },
      "cell_type": "code",
      "source": [
        "pred_val = smresults.fittedvalues.copy()\n",
        "true_val = df['Cigarettes_Overall_Percentage'].values.copy()\n",
        "residual = true_val - pred_val\n",
        "fig, ax = plt.subplots(figsize = (6, 2.5))\n",
        "_ = ax.scatter(residual, pred_val)"
      ],
      "execution_count": 0,
      "outputs": [
        {
          "output_type": "display_data",
          "data": {
            "image/png": "[encoded data removed]",
            "text/plain": [
              "<Figure size 432x180 with 1 Axes>"
            ]
          },
          "metadata": {
            "tags": []
          }
        }
      ]
    },
    {
      "metadata": {
        "id": "Aj5DJq9HPvG-",
        "colab_type": "code",
        "outputId": "d8883740-b2ad-4496-b70c-d5313d51ffae",
        "colab": {
          "base_uri": "https://localhost:8080/",
          "height": 35
        }
      },
      "cell_type": "code",
      "source": [
        "# testing linearity\n",
        "import statsmodels.stats.api as sms\n",
        "# if significant, then not linear; if not significant, then linear\n",
        "sms.linear_harvey_collier(smresults)"
      ],
      "execution_count": 0,
      "outputs": [
        {
          "output_type": "execute_result",
          "data": {
            "text/plain": [
              "Ttest_1sampResult(statistic=1.8210202579282302, pvalue=0.14270785939527525)"
            ]
          },
          "metadata": {
            "tags": []
          },
          "execution_count": 322
        }
      ]
    },
    {
      "metadata": {
        "id": "BMlXjpNHPzpR",
        "colab_type": "code",
        "outputId": "3b1e743e-127b-4c3b-d2a4-8fc7c9a9e31f",
        "colab": {
          "base_uri": "https://localhost:8080/",
          "height": 35
        }
      },
      "cell_type": "code",
      "source": [
        "import statsmodels\n",
        "# testing equal variance and homoscedasticity\n",
        "double = pd.DataFrame(pd.np.tile(df['Vaping_Overall_Percentage'], (2, 1))).T\n",
        "# if significant, then not heteroscedasticity; if not significant, then equal variance\n",
        "fstat, pval,_ = statsmodels.stats.diagnostic.het_goldfeldquandt(residual, double)\n",
        "print(\"F-Statistic: \", fstat, \"P-Value: \", pval)"
      ],
      "execution_count": 0,
      "outputs": [
        {
          "output_type": "stream",
          "text": [
            "F-Statistic:  0.651058507713326 P-Value:  0.6335374080096343\n"
          ],
          "name": "stdout"
        }
      ]
    },
    {
      "metadata": {
        "id": "_PNY7RFiP9qx",
        "colab_type": "code",
        "outputId": "c54ff387-072a-4fcd-e4f7-ead6c146cc17",
        "colab": {
          "base_uri": "https://localhost:8080/",
          "height": 231
        }
      },
      "cell_type": "code",
      "source": [
        "# testing normality; if r-squared is high, then normality is met.\n",
        "import scipy as sp\n",
        "fig, ax = plt.subplots(figsize=(6,2.5))\n",
        "_, (__, ___, r) = sp.stats.probplot(residual, plot=ax, fit=True)\n",
        "print(\"R-Squared: \", r**2)"
      ],
      "execution_count": 0,
      "outputs": [
        {
          "output_type": "stream",
          "text": [
            "R-Squared:  0.9169933619851348\n"
          ],
          "name": "stdout"
        },
        {
          "output_type": "display_data",
          "data": {
            "image/png": "[encoded data removed]",
            "text/plain": [
              "<Figure size 432x180 with 1 Axes>"
            ]
          },
          "metadata": {
            "tags": []
          }
        }
      ]
    },
    {
      "metadata": {
        "id": "Oj1K1N40PaEu",
        "colab_type": "text"
      },
      "cell_type": "markdown",
      "source": [
        "### Plotting"
      ]
    },
    {
      "metadata": {
        "id": "6-E_htOY7XZc",
        "colab_type": "code",
        "outputId": "a6e8a9c4-eccf-4103-ac2e-7d39feb71212",
        "colab": {
          "base_uri": "https://localhost:8080/",
          "height": 415
        }
      },
      "cell_type": "code",
      "source": [
        "# sklearn\n",
        "from sklearn import linear_model\n",
        "import numpy as np\n",
        "import matplotlib.pyplot as plt\n",
        "\n",
        "x = df['Year'].values.reshape(-1, 1) \n",
        "y = df['Cigarettes_Overall_Percentage'] \n",
        "reg = linear_model.LinearRegression()\n",
        "reg.fit(x, y)\n",
        "\n",
        "print(\"Coef: \", reg.coef_, \"\\nIntercept: \",reg.intercept_)\n",
        "\n",
        "experimental = np.arange(2019, 2029).reshape(-1, 1)\n",
        "# experimental = np.arange(8, 18).reshape(-1, 1)\n",
        "print(experimental.size)\n",
        "predicted = reg.predict(experimental)\n",
        "total_x = np.concatenate([x, experimental], axis = 0)\n",
        "total_y = np.concatenate([y, predicted], axis = 0)\n",
        "\n",
        "plt.scatter(total_x, total_y)\n",
        "plt.title(\"Projected Cigarette Use over the Next 10 Years for Teens\")\n",
        "plt.show()"
      ],
      "execution_count": 0,
      "outputs": [
        {
          "output_type": "stream",
          "text": [
            "Coef:  [-0.00520238] \n",
            "Intercept:  10.57132142857143\n",
            "10\n"
          ],
          "name": "stdout"
        },
        {
          "output_type": "display_data",
          "data": {
            "image/png": "[encoded data removed]",
            "text/plain": [
              "<Figure size 576x396 with 1 Axes>"
            ]
          },
          "metadata": {
            "tags": []
          }
        }
      ]
    },
    {
      "metadata": {
        "id": "D0ELdCOj78lF",
        "colab_type": "text"
      },
      "cell_type": "markdown",
      "source": [
        "## Comparing Cigarette and Vaping Use"
      ]
    },
    {
      "metadata": {
        "id": "mJ_2jLA977cu",
        "colab_type": "code",
        "outputId": "849194ef-fd4d-419b-c88c-53baa5005285",
        "colab": {
          "base_uri": "https://localhost:8080/",
          "height": 294
        }
      },
      "cell_type": "code",
      "source": [
        "import pandas as pd\n",
        "df = pd.read_csv('high_school_vaping_cigarettes_data.csv')\n",
        "# converting percentages to decimals\n",
        "df['Vaping_Overall_Percentage'] = df['Vaping_Overall_Percentage'] / 100\n",
        "df['Cigarettes_Overall_Percentage'] = df['Cigarettes_Overall_Percentage'] / 100\n",
        "df"
      ],
      "execution_count": 0,
      "outputs": [
        {
          "output_type": "execute_result",
          "data": {
            "text/html": [
              "<div>\n",
              "<style scoped>\n",
              "    .dataframe tbody tr th:only-of-type {\n",
              "        vertical-align: middle;\n",
              "    }\n",
              "\n",
              "    .dataframe tbody tr th {\n",
              "        vertical-align: top;\n",
              "    }\n",
              "\n",
              "    .dataframe thead th {\n",
              "        text-align: right;\n",
              "    }\n",
              "</style>\n",
              "<table border=\"1\" class=\"dataframe\">\n",
              "  <thead>\n",
              "    <tr style=\"text-align: right;\">\n",
              "      <th></th>\n",
              "      <th>Year</th>\n",
              "      <th>Vaping_Overall_Percentage</th>\n",
              "      <th>Cigarettes_Overall_Percentage</th>\n",
              "    </tr>\n",
              "  </thead>\n",
              "  <tbody>\n",
              "    <tr>\n",
              "      <th>0</th>\n",
              "      <td>2011</td>\n",
              "      <td>0.015</td>\n",
              "      <td>0.117</td>\n",
              "    </tr>\n",
              "    <tr>\n",
              "      <th>1</th>\n",
              "      <td>2012</td>\n",
              "      <td>0.028</td>\n",
              "      <td>0.106</td>\n",
              "    </tr>\n",
              "    <tr>\n",
              "      <th>2</th>\n",
              "      <td>2013</td>\n",
              "      <td>0.045</td>\n",
              "      <td>0.096</td>\n",
              "    </tr>\n",
              "    <tr>\n",
              "      <th>3</th>\n",
              "      <td>2014</td>\n",
              "      <td>0.134</td>\n",
              "      <td>0.080</td>\n",
              "    </tr>\n",
              "    <tr>\n",
              "      <th>4</th>\n",
              "      <td>2015</td>\n",
              "      <td>0.160</td>\n",
              "      <td>0.093</td>\n",
              "    </tr>\n",
              "    <tr>\n",
              "      <th>5</th>\n",
              "      <td>2016</td>\n",
              "      <td>0.113</td>\n",
              "      <td>0.080</td>\n",
              "    </tr>\n",
              "    <tr>\n",
              "      <th>6</th>\n",
              "      <td>2017</td>\n",
              "      <td>0.117</td>\n",
              "      <td>0.076</td>\n",
              "    </tr>\n",
              "    <tr>\n",
              "      <th>7</th>\n",
              "      <td>2018</td>\n",
              "      <td>0.208</td>\n",
              "      <td>0.081</td>\n",
              "    </tr>\n",
              "  </tbody>\n",
              "</table>\n",
              "</div>"
            ],
            "text/plain": [
              "   Year  Vaping_Overall_Percentage  Cigarettes_Overall_Percentage\n",
              "0  2011                      0.015                          0.117\n",
              "1  2012                      0.028                          0.106\n",
              "2  2013                      0.045                          0.096\n",
              "3  2014                      0.134                          0.080\n",
              "4  2015                      0.160                          0.093\n",
              "5  2016                      0.113                          0.080\n",
              "6  2017                      0.117                          0.076\n",
              "7  2018                      0.208                          0.081"
            ]
          },
          "metadata": {
            "tags": []
          },
          "execution_count": 335
        }
      ]
    },
    {
      "metadata": {
        "id": "bsdw4v5w8LY7",
        "colab_type": "code",
        "colab": {}
      },
      "cell_type": "code",
      "source": [
        "import statsmodels.formula.api as smf\n",
        "# OLS linear regression\n",
        "smresults_cigs = smf.ols(\"Cigarettes_Overall_Percentage ~ Year\", df).fit()\n",
        "smresults_vape = smf.ols(\"Vaping_Overall_Percentage ~ Year\", df).fit()\n",
        "\n",
        "df['pred_cigs'] = smresults_cigs.predict() \n",
        "df['pred_vape'] = smresults_vape.predict() "
      ],
      "execution_count": 0,
      "outputs": []
    },
    {
      "metadata": {
        "id": "Cg_jIIVl8p13",
        "colab_type": "code",
        "outputId": "b90e0fc0-3a46-4a31-cc31-620e98b25198",
        "colab": {
          "base_uri": "https://localhost:8080/",
          "height": 555
        }
      },
      "cell_type": "code",
      "source": [
        "print(smresults_cigs.summary(), smresults_cigs.params)"
      ],
      "execution_count": 0,
      "outputs": [
        {
          "output_type": "stream",
          "text": [
            "                                  OLS Regression Results                                 \n",
            "=========================================================================================\n",
            "Dep. Variable:     Cigarettes_Overall_Percentage   R-squared:                       0.759\n",
            "Model:                                       OLS   Adj. R-squared:                  0.719\n",
            "Method:                            Least Squares   F-statistic:                     18.94\n",
            "Date:                           Sat, 02 Mar 2019   Prob (F-statistic):            0.00481\n",
            "Time:                                   01:20:54   Log-Likelihood:                 28.682\n",
            "No. Observations:                              8   AIC:                            -53.36\n",
            "Df Residuals:                                  6   BIC:                            -53.21\n",
            "Df Model:                                      1                                         \n",
            "Covariance Type:                       nonrobust                                         \n",
            "==============================================================================\n",
            "                 coef    std err          t      P>|t|      [0.025      0.975]\n",
            "------------------------------------------------------------------------------\n",
            "Intercept     10.5713      2.408      4.390      0.005       4.678      16.464\n",
            "Year          -0.0052      0.001     -4.352      0.005      -0.008      -0.002\n",
            "==============================================================================\n",
            "Omnibus:                        1.661   Durbin-Watson:                   1.863\n",
            "Prob(Omnibus):                  0.436   Jarque-Bera (JB):                0.601\n",
            "Skew:                          -0.655   Prob(JB):                        0.741\n",
            "Kurtosis:                       2.705   Cond. No.                     1.77e+06\n",
            "==============================================================================\n",
            "\n",
            "Warnings:\n",
            "[1] Standard Errors assume that the covariance matrix of the errors is correctly specified.\n",
            "[2] The condition number is large, 1.77e+06. This might indicate that there are\n",
            "strong multicollinearity or other numerical problems. Intercept    10.571321\n",
            "Year         -0.005202\n",
            "dtype: float64\n"
          ],
          "name": "stdout"
        },
        {
          "output_type": "stream",
          "text": [
            "/usr/local/lib/python3.6/dist-packages/scipy/stats/stats.py:1394: UserWarning: kurtosistest only valid for n>=20 ... continuing anyway, n=8\n",
            "  \"anyway, n=%i\" % int(n))\n"
          ],
          "name": "stderr"
        }
      ]
    },
    {
      "metadata": {
        "id": "IaoHmVRT8vp-",
        "colab_type": "code",
        "outputId": "e77e1497-409e-4ea7-9ef8-82e5740db304",
        "colab": {
          "base_uri": "https://localhost:8080/",
          "height": 555
        }
      },
      "cell_type": "code",
      "source": [
        "print(smresults_vape.summary(), smresults_vape.params)"
      ],
      "execution_count": 0,
      "outputs": [
        {
          "output_type": "stream",
          "text": [
            "                                OLS Regression Results                               \n",
            "=====================================================================================\n",
            "Dep. Variable:     Vaping_Overall_Percentage   R-squared:                       0.757\n",
            "Model:                                   OLS   Adj. R-squared:                  0.717\n",
            "Method:                        Least Squares   F-statistic:                     18.72\n",
            "Date:                       Sat, 02 Mar 2019   Prob (F-statistic):            0.00494\n",
            "Time:                               01:20:55   Log-Likelihood:                 16.366\n",
            "No. Observations:                          8   AIC:                            -28.73\n",
            "Df Residuals:                              6   BIC:                            -28.57\n",
            "Df Model:                                  1                                         \n",
            "Covariance Type:                   nonrobust                                         \n",
            "==============================================================================\n",
            "                 coef    std err          t      P>|t|      [0.025      0.975]\n",
            "------------------------------------------------------------------------------\n",
            "Intercept    -48.4853     11.229     -4.318      0.005     -75.961     -21.010\n",
            "Year           0.0241      0.006      4.327      0.005       0.010       0.038\n",
            "==============================================================================\n",
            "Omnibus:                        1.021   Durbin-Watson:                   1.829\n",
            "Prob(Omnibus):                  0.600   Jarque-Bera (JB):                0.631\n",
            "Skew:                           0.246   Prob(JB):                        0.729\n",
            "Kurtosis:                       1.715   Cond. No.                     1.77e+06\n",
            "==============================================================================\n",
            "\n",
            "Warnings:\n",
            "[1] Standard Errors assume that the covariance matrix of the errors is correctly specified.\n",
            "[2] The condition number is large, 1.77e+06. This might indicate that there are\n",
            "strong multicollinearity or other numerical problems. Intercept   -48.485321\n",
            "Year          0.024119\n",
            "dtype: float64\n"
          ],
          "name": "stdout"
        },
        {
          "output_type": "stream",
          "text": [
            "/usr/local/lib/python3.6/dist-packages/scipy/stats/stats.py:1394: UserWarning: kurtosistest only valid for n>=20 ... continuing anyway, n=8\n",
            "  \"anyway, n=%i\" % int(n))\n"
          ],
          "name": "stderr"
        }
      ]
    },
    {
      "metadata": {
        "id": "zUL8HWkv84qC",
        "colab_type": "code",
        "colab": {}
      },
      "cell_type": "code",
      "source": [
        "# sklearn\n",
        "from sklearn import linear_model\n",
        "import numpy as np\n",
        "import matplotlib.pyplot as plt\n",
        "\n",
        "def get_predictions(df, cols, normalize_year = False):\n",
        "  \"\"\"\n",
        "  Args:\n",
        "    df: the data frame with the Year v. Overall_Percentage data\n",
        "    cols: the column or columns to use; if the number of columns > 1, make it a list\n",
        "    normalize_year: Whether or not to normalize the years to the integer time from 2011 (or df['Year'].min())\n",
        "  Returns:\n",
        "    total_x: years in df and 10 years from df.max()\n",
        "    total_y: predictions and table values; shape: (number of columns, len(df['Year']) + 10)\n",
        "    coef: coefficients for the regression\n",
        "    intercept: intercepts of the regression\n",
        "  \"\"\"\n",
        "  if normalize_year:\n",
        "    x = df['Year'] = (df['Year'] - df['Year'].min()).reshape(-1, 1)\n",
        "  else:\n",
        "    x = df['Year'].values.reshape(-1, 1) \n",
        "  y = df[cols] \n",
        "  reg = linear_model.LinearRegression()\n",
        "  reg.fit(x, y)\n",
        "  coef = reg.coef_\n",
        "  intercept = reg.intercept_\n",
        "  print(\"Coefficients: \", coef, \"\\nIntercepts: \", intercept)\n",
        "  \n",
        "  if normalize_year:\n",
        "    experimental = np.arange(8, 18).reshape(-1, 1)\n",
        "  else:\n",
        "    experimental = np.arange(2019, 2029).reshape(-1, 1)\n",
        "  print(\"R-Squared: \", reg.score(x, y))\n",
        "  predicted = reg.predict(experimental)\n",
        "  total_x = np.concatenate([x, experimental], axis = 0)\n",
        "  total_y = np.concatenate([y, predicted], axis = 0)\n",
        "  \n",
        "  # iterating through columns to get a collection of all predictions and table values for plotting\n",
        "  total_y = []\n",
        "  for (i,col) in enumerate(cols):\n",
        "    y_current = np.concatenate([y[col], predicted[:, i]], axis = 0)\n",
        "    total_y.append(y_current)\n",
        "  total_y = np.asarray(total_y)\n",
        "  return (total_x, total_y, coef, intercept)\n",
        "  "
      ],
      "execution_count": 0,
      "outputs": []
    },
    {
      "metadata": {
        "id": "AJ7pam6-C0Qu",
        "colab_type": "code",
        "outputId": "62693f95-b68f-472a-e2c2-0f1902dced6e",
        "colab": {
          "base_uri": "https://localhost:8080/",
          "height": 100
        }
      },
      "cell_type": "code",
      "source": [
        "cols = ['Vaping_Overall_Percentage', 'Cigarettes_Overall_Percentage']\n",
        "total_x, total_y, m, b = get_predictions(df, cols, normalize_year = False)\n",
        "print(total_x.shape, total_y.shape)"
      ],
      "execution_count": 0,
      "outputs": [
        {
          "output_type": "stream",
          "text": [
            "Coefficients:  [[ 0.02411905]\n",
            " [-0.00520238]] \n",
            "Intercepts:  [-48.48532143  10.57132143]\n",
            "R-Squared:  0.7574101766184588\n",
            "(18, 1) (2, 18)\n"
          ],
          "name": "stdout"
        }
      ]
    },
    {
      "metadata": {
        "id": "m0pG7rYEBuaC",
        "colab_type": "code",
        "outputId": "4ddce1ae-2508-41df-9559-c1f157cf69db",
        "colab": {
          "base_uri": "https://localhost:8080/",
          "height": 637
        }
      },
      "cell_type": "code",
      "source": [
        "# actual plotting\n",
        "line = m.T * total_x + b\n",
        "fig, (ax1, ax2) = plt.subplots(1,2, figsize = (10, 10))\n",
        "ax1.scatter(total_x, total_y[0])\n",
        "ax1.plot(total_x,  line[:, 0], 'r')\n",
        "ax1.set_title(\"Projected Vaping Use over the Next 10 Years for Teens\")\n",
        "ax1.set_xlabel(\"Years\")\n",
        "ax1.set_ylabel(\"Percentage of Teens Vaping\")\n",
        "\n",
        "ax2.scatter(total_x, total_y[1])\n",
        "ax2.plot(total_x, line[:, 1], 'r')\n",
        "ax2.set_title(\"Projected Cigarette Use over the Next 10 Years for Teens\")\n",
        "ax2.set_xlabel(\"Years\")\n",
        "ax2.set_ylabel(\"Percentage of Teens Smoking Cigarettes\")"
      ],
      "execution_count": 0,
      "outputs": [
        {
          "output_type": "execute_result",
          "data": {
            "text/plain": [
              "Text(0, 0.5, 'Percentage of Teens Smoking Cigarettes')"
            ]
          },
          "metadata": {
            "tags": []
          },
          "execution_count": 347
        },
        {
          "output_type": "display_data",
          "data": {
            "image/png": "[encoded data removed]",
            "text/plain": [
              "<Figure size 720x720 with 2 Axes>"
            ]
          },
          "metadata": {
            "tags": []
          }
        }
      ]
    },
    {
      "metadata": {
        "id": "rVMIOSacEftv",
        "colab_type": "code",
        "outputId": "59460f28-63f8-49bc-bd1a-69fec4813e9e",
        "colab": {
          "base_uri": "https://localhost:8080/",
          "height": 35
        }
      },
      "cell_type": "code",
      "source": [
        "projected_y = total_y[:, -10:]\n",
        "projected_years = total_x[-10:]\n",
        "# mean differences from vape - cig\n",
        "mean_difference = np.mean((total_y[0] - total_y[1]))\n",
        "print(mean_difference)"
      ],
      "execution_count": 0,
      "outputs": [
        {
          "output_type": "stream",
          "text": [
            "0.1579821428571418\n"
          ],
          "name": "stdout"
        }
      ]
    },
    {
      "metadata": {
        "id": "xnxcfoWZFUUu",
        "colab_type": "code",
        "outputId": "acb92983-e7cd-4bdf-a28c-fef7efb71a13",
        "colab": {
          "base_uri": "https://localhost:8080/",
          "height": 35
        }
      },
      "cell_type": "code",
      "source": [
        "projected_y.shape"
      ],
      "execution_count": 0,
      "outputs": [
        {
          "output_type": "execute_result",
          "data": {
            "text/plain": [
              "(2, 10)"
            ]
          },
          "metadata": {
            "tags": []
          },
          "execution_count": 176
        }
      ]
    },
    {
      "metadata": {
        "id": "snWe61QPnOz_",
        "colab_type": "text"
      },
      "cell_type": "markdown",
      "source": [
        "# Part II\n",
        "Create a model that simulates the likelihood that a given individual will use a given substance. Take into account social influence and characteristic traits (e.g., social circles, genetics, health issues, income level, and/or any other relevant factors) as well as characteristics of tdrug itself. \n",
        "* Demonstrate how your model works by predicting how many students among a class of 300 high school seniors with varying characteristics will use the following substances: nicotine, marijuana, alcohol, and unprescribed opioids\n"
      ]
    },
    {
      "metadata": {
        "id": "h-usy9yjnPrH",
        "colab_type": "code",
        "outputId": "f6cdd162-40c7-4f4b-ab27-493f3f44b856",
        "colab": {
          "resources": {
            "http://localhost:8080/nbextensions/google.colab/files.js": {
              "data": "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",
              "ok": true,
              "headers": [
                [
                  "content-type",
                  "application/javascript"
                ]
              ],
              "status": 200,
              "status_text": ""
            }
          },
          "base_uri": "https://localhost:8080/",
          "height": 113
        }
      },
      "cell_type": "code",
      "source": [
        "from google.colab import files\n",
        "files.upload()"
      ],
      "execution_count": 0,
      "outputs": [
        {
          "output_type": "display_data",
          "data": {
            "text/html": [
              "\n",
              "     <input type=\"file\" id=\"files-98aca114-005a-48e9-bfc6-b4a4f34e04ca\" name=\"files[]\" multiple disabled />\n",
              "     <output id=\"result-98aca114-005a-48e9-bfc6-b4a4f34e04ca\">\n",
              "      Upload widget is only available when the cell has been executed in the\n",
              "      current browser session. Please rerun this cell to enable.\n",
              "      </output>\n",
              "      <script src=\"/nbextensions/google.colab/files.js\"></script> "
            ],
            "text/plain": [
              "<IPython.core.display.HTML object>"
            ]
          },
          "metadata": {
            "tags": []
          }
        },
        {
          "output_type": "stream",
          "text": [
            "Saving marijuana_hs.csv to marijuana_hs.csv\n"
          ],
          "name": "stdout"
        },
        {
          "output_type": "execute_result",
          "data": {
            "text/plain": [
              "{'marijuana_hs.csv': b'Total (percentage in 1 year),34.9,35.6,37.1\\r\\nMale,36.3,36.9,37.4\\r\\nFemale,34,34,36\\r\\nNone or under 4 years,38.7,37.8,39.6\\r\\nComplete 4 years,33.7,34.5,36.1\\r\\nNortheast,41,39,41.5\\r\\nMidwest,32.7,33.4,38.8\\r\\nSouth,31.2,32.8,32.7\\r\\nWest,38.9,40.1,39.6\\r\\n1.0-2.0 (Low),35.3,35,34.6\\r\\n2.5-3.0,37.8,36.7,39.7\\r\\n3.5-4.0,36.8,37.1,39\\r\\n4.5-5.0,32.5,34.8,35.6\\r\\n5.5-6.0 (High),32.1,32.6,34.1\\r\\nWhite,35.1,35.3,36.5\\r\\nAfrican-American,32.8,32.4,35.5\\r\\nHispanic,35.6,36.9,36.8'}"
            ]
          },
          "metadata": {
            "tags": []
          },
          "execution_count": 13
        }
      ]
    },
    {
      "metadata": {
        "id": "1wIKHY37WN2i",
        "colab_type": "text"
      },
      "cell_type": "markdown",
      "source": [
        "## Marijuana"
      ]
    },
    {
      "metadata": {
        "id": "gtyTkxbxYyGe",
        "colab_type": "code",
        "colab": {}
      },
      "cell_type": "code",
      "source": [
        "from google.colab import files\n",
        "files.upload()"
      ],
      "execution_count": 0,
      "outputs": []
    },
    {
      "metadata": {
        "id": "P4uTN1V3n6OB",
        "colab_type": "code",
        "outputId": "b94dde1c-ff2e-450a-b781-84873b4ed02b",
        "colab": {
          "base_uri": "https://localhost:8080/",
          "height": 171
        }
      },
      "cell_type": "code",
      "source": [
        "import pandas as pd\n",
        "df = pd.read_csv('marijuana_hs.csv')\n",
        "print(df.keys())\n",
        "df.set_index('Total (percentage in 1 year)',inplace=True)\n",
        "df = df.transpose()\n",
        "df"
      ],
      "execution_count": 0,
      "outputs": [
        {
          "output_type": "stream",
          "text": [
            "Index(['Total (percentage in 1 year)', '34.9', '35.6', '37.1'], dtype='object')\n"
          ],
          "name": "stdout"
        },
        {
          "output_type": "execute_result",
          "data": {
            "text/html": [
              "<div>\n",
              "<style scoped>\n",
              "    .dataframe tbody tr th:only-of-type {\n",
              "        vertical-align: middle;\n",
              "    }\n",
              "\n",
              "    .dataframe tbody tr th {\n",
              "        vertical-align: top;\n",
              "    }\n",
              "\n",
              "    .dataframe thead th {\n",
              "        text-align: right;\n",
              "    }\n",
              "</style>\n",
              "<table border=\"1\" class=\"dataframe\">\n",
              "  <thead>\n",
              "    <tr style=\"text-align: right;\">\n",
              "      <th>Total (percentage in 1 year)</th>\n",
              "      <th>Male</th>\n",
              "      <th>Female</th>\n",
              "      <th>None or under 4 years</th>\n",
              "      <th>Complete 4 years</th>\n",
              "      <th>Northeast</th>\n",
              "      <th>Midwest</th>\n",
              "      <th>South</th>\n",
              "      <th>West</th>\n",
              "      <th>1.0-2.0 (Low)</th>\n",
              "      <th>2.5-3.0</th>\n",
              "      <th>3.5-4.0</th>\n",
              "      <th>4.5-5.0</th>\n",
              "      <th>5.5-6.0 (High)</th>\n",
              "      <th>White</th>\n",
              "      <th>African-American</th>\n",
              "      <th>Hispanic</th>\n",
              "    </tr>\n",
              "  </thead>\n",
              "  <tbody>\n",
              "    <tr>\n",
              "      <th>34.9</th>\n",
              "      <td>36.3</td>\n",
              "      <td>34.0</td>\n",
              "      <td>38.7</td>\n",
              "      <td>33.7</td>\n",
              "      <td>41.0</td>\n",
              "      <td>32.7</td>\n",
              "      <td>31.2</td>\n",
              "      <td>38.9</td>\n",
              "      <td>35.3</td>\n",
              "      <td>37.8</td>\n",
              "      <td>36.8</td>\n",
              "      <td>32.5</td>\n",
              "      <td>32.1</td>\n",
              "      <td>35.1</td>\n",
              "      <td>32.8</td>\n",
              "      <td>35.6</td>\n",
              "    </tr>\n",
              "    <tr>\n",
              "      <th>35.6</th>\n",
              "      <td>36.9</td>\n",
              "      <td>34.0</td>\n",
              "      <td>37.8</td>\n",
              "      <td>34.5</td>\n",
              "      <td>39.0</td>\n",
              "      <td>33.4</td>\n",
              "      <td>32.8</td>\n",
              "      <td>40.1</td>\n",
              "      <td>35.0</td>\n",
              "      <td>36.7</td>\n",
              "      <td>37.1</td>\n",
              "      <td>34.8</td>\n",
              "      <td>32.6</td>\n",
              "      <td>35.3</td>\n",
              "      <td>32.4</td>\n",
              "      <td>36.9</td>\n",
              "    </tr>\n",
              "    <tr>\n",
              "      <th>37.1</th>\n",
              "      <td>37.4</td>\n",
              "      <td>36.0</td>\n",
              "      <td>39.6</td>\n",
              "      <td>36.1</td>\n",
              "      <td>41.5</td>\n",
              "      <td>38.8</td>\n",
              "      <td>32.7</td>\n",
              "      <td>39.6</td>\n",
              "      <td>34.6</td>\n",
              "      <td>39.7</td>\n",
              "      <td>39.0</td>\n",
              "      <td>35.6</td>\n",
              "      <td>34.1</td>\n",
              "      <td>36.5</td>\n",
              "      <td>35.5</td>\n",
              "      <td>36.8</td>\n",
              "    </tr>\n",
              "  </tbody>\n",
              "</table>\n",
              "</div>"
            ],
            "text/plain": [
              "Total (percentage in 1 year)  Male  Female  None or under 4 years  \\\n",
              "34.9                          36.3    34.0                   38.7   \n",
              "35.6                          36.9    34.0                   37.8   \n",
              "37.1                          37.4    36.0                   39.6   \n",
              "\n",
              "Total (percentage in 1 year)  Complete 4 years  Northeast  Midwest  South  \\\n",
              "34.9                                      33.7       41.0     32.7   31.2   \n",
              "35.6                                      34.5       39.0     33.4   32.8   \n",
              "37.1                                      36.1       41.5     38.8   32.7   \n",
              "\n",
              "Total (percentage in 1 year)  West  1.0-2.0 (Low)  2.5-3.0  3.5-4.0  4.5-5.0  \\\n",
              "34.9                          38.9           35.3     37.8     36.8     32.5   \n",
              "35.6                          40.1           35.0     36.7     37.1     34.8   \n",
              "37.1                          39.6           34.6     39.7     39.0     35.6   \n",
              "\n",
              "Total (percentage in 1 year)  5.5-6.0 (High)  White  African-American  \\\n",
              "34.9                                    32.1   35.1              32.8   \n",
              "35.6                                    32.6   35.3              32.4   \n",
              "37.1                                    34.1   36.5              35.5   \n",
              "\n",
              "Total (percentage in 1 year)  Hispanic  \n",
              "34.9                              35.6  \n",
              "35.6                              36.9  \n",
              "37.1                              36.8  "
            ]
          },
          "metadata": {
            "tags": []
          },
          "execution_count": 271
        }
      ]
    },
    {
      "metadata": {
        "id": "ZI3bjajDSexi",
        "colab_type": "code",
        "outputId": "e968c175-7c2f-4495-9d35-84ef3d88365c",
        "colab": {
          "base_uri": "https://localhost:8080/",
          "height": 87
        }
      },
      "cell_type": "code",
      "source": [
        "keys = np.asarray(df.keys())\n",
        "keys"
      ],
      "execution_count": 0,
      "outputs": [
        {
          "output_type": "execute_result",
          "data": {
            "text/plain": [
              "array(['Male', 'Female', 'None or under 4 years', 'Complete 4 years',\n",
              "       'Northeast', 'Midwest', 'South', 'West', '1.0-2.0 (Low)',\n",
              "       '2.5-3.0', '3.5-4.0', '4.5-5.0', '5.5-6.0 (High)', 'White',\n",
              "       'African-American', 'Hispanic'], dtype=object)"
            ]
          },
          "metadata": {
            "tags": []
          },
          "execution_count": 241
        }
      ]
    },
    {
      "metadata": {
        "id": "Hnh_MAa5x_Tg",
        "colab_type": "code",
        "outputId": "c18b2c70-72e3-4d74-eb6e-00e0bcd1f92e",
        "colab": {
          "base_uri": "https://localhost:8080/",
          "height": 141
        }
      },
      "cell_type": "code",
      "source": [
        "x = df\n",
        "y = pd.DataFrame.from_dict({'Total (percentage in 1 year)': [34.9, 35.6, 37.1]})\n",
        "y"
      ],
      "execution_count": 0,
      "outputs": [
        {
          "output_type": "execute_result",
          "data": {
            "text/html": [
              "<div>\n",
              "<style scoped>\n",
              "    .dataframe tbody tr th:only-of-type {\n",
              "        vertical-align: middle;\n",
              "    }\n",
              "\n",
              "    .dataframe tbody tr th {\n",
              "        vertical-align: top;\n",
              "    }\n",
              "\n",
              "    .dataframe thead th {\n",
              "        text-align: right;\n",
              "    }\n",
              "</style>\n",
              "<table border=\"1\" class=\"dataframe\">\n",
              "  <thead>\n",
              "    <tr style=\"text-align: right;\">\n",
              "      <th></th>\n",
              "      <th>Total (percentage in 1 year)</th>\n",
              "    </tr>\n",
              "  </thead>\n",
              "  <tbody>\n",
              "    <tr>\n",
              "      <th>0</th>\n",
              "      <td>34.9</td>\n",
              "    </tr>\n",
              "    <tr>\n",
              "      <th>1</th>\n",
              "      <td>35.6</td>\n",
              "    </tr>\n",
              "    <tr>\n",
              "      <th>2</th>\n",
              "      <td>37.1</td>\n",
              "    </tr>\n",
              "  </tbody>\n",
              "</table>\n",
              "</div>"
            ],
            "text/plain": [
              "   Total (percentage in 1 year)\n",
              "0                          34.9\n",
              "1                          35.6\n",
              "2                          37.1"
            ]
          },
          "metadata": {
            "tags": []
          },
          "execution_count": 250
        }
      ]
    },
    {
      "metadata": {
        "id": "M4Tktxg5nug0",
        "colab_type": "code",
        "outputId": "093d431b-faad-40e8-8a02-453e50d4d150",
        "colab": {
          "base_uri": "https://localhost:8080/",
          "height": 124
        }
      },
      "cell_type": "code",
      "source": [
        "from sklearn.linear_model import LassoCV\n",
        "from sklearn.linear_model import RidgeCV\n",
        "from sklearn.feature_selection import SelectFromModel\n",
        "#clf = LassoCV(cv=7)\n",
        "clf = RidgeCV(cv=2)\n",
        "sfm = SelectFromModel(clf, threshold=0.000025)\n",
        "print(sfm.fit(x, y))\n"
      ],
      "execution_count": 0,
      "outputs": [
        {
          "output_type": "stream",
          "text": [
            "SelectFromModel(estimator=RidgeCV(alphas=array([ 0.1,  1. , 10. ]), cv=2, fit_intercept=True,\n",
            "    gcv_mode=None, normalize=False, scoring=None, store_cv_values=False),\n",
            "        max_features=None, norm_order=1, prefit=False, threshold=2.5e-05)\n"
          ],
          "name": "stdout"
        },
        {
          "output_type": "stream",
          "text": [
            "/usr/local/lib/python3.6/dist-packages/sklearn/model_selection/_search.py:841: DeprecationWarning: The default of the `iid` parameter will change from True to False in version 0.22 and will be removed in 0.24. This will change numeric results when test-set sizes are unequal.\n",
            "  DeprecationWarning)\n"
          ],
          "name": "stderr"
        }
      ]
    },
    {
      "metadata": {
        "id": "pOxY0dy8wxXw",
        "colab_type": "code",
        "outputId": "4ecc57bd-086b-4100-d07b-fbbbfff06250",
        "colab": {
          "base_uri": "https://localhost:8080/",
          "height": 35
        }
      },
      "cell_type": "code",
      "source": [
        "from sklearn.linear_model import Ridge\n",
        "ridgereg = Ridge(alpha = 0.5, normalize = True)\n",
        "ridgereg.fit(x, y)\n",
        "r_squared = ridgereg.score(x,y)\n",
        "print(r_squared)"
      ],
      "execution_count": 0,
      "outputs": [
        {
          "output_type": "stream",
          "text": [
            "0.9982732612058407\n"
          ],
          "name": "stdout"
        }
      ]
    },
    {
      "metadata": {
        "id": "holD43l2z9a7",
        "colab_type": "code",
        "outputId": "8da0fa1f-53d4-4af2-c6c6-47502ca130df",
        "colab": {
          "base_uri": "https://localhost:8080/",
          "height": 87
        }
      },
      "cell_type": "code",
      "source": [
        "coef = ridgereg.coef_\n",
        "intercept = ridgereg.intercept_\n",
        "print(\"Coefficients: \", coef, \"\\nIntercepts: \", intercept)"
      ],
      "execution_count": 0,
      "outputs": [
        {
          "output_type": "stream",
          "text": [
            "Coefficients:  [[ 0.16754724  0.07386448  0.06090817  0.07615424  0.02044013  0.02660606\n",
            "   0.080845    0.07646104 -0.26592794  0.04328226  0.07493836  0.05398927\n",
            "   0.08833734  0.11829995  0.04754483  0.09906669]] \n",
            "Intercepts:  [5.38660694]\n"
          ],
          "name": "stdout"
        }
      ]
    },
    {
      "metadata": {
        "id": "e_GNGjXYSNB6",
        "colab_type": "code",
        "outputId": "fbe0d4c3-b0c9-4b03-e518-301da3677de9",
        "colab": {
          "base_uri": "https://localhost:8080/",
          "height": 425
        }
      },
      "cell_type": "code",
      "source": [
        "fig, ax = plt.subplots(1,1)\n",
        "\n",
        "ax.scatter(keys, coef)\n",
        "ax.set_title(\"Ridge Regression Coefficients for Each Factor\")\n",
        "ax.set_xlabel(\"Factors\")\n",
        "ax.set_ylabel(\"Coefficients\")\n",
        "_ = plt.setp(ax.get_xticklabels(), rotation=30, horizontalalignment='right')\n"
      ],
      "execution_count": 0,
      "outputs": [
        {
          "output_type": "display_data",
          "data": {
            "image/png": "[encoded data removed]",
            "text/plain": [
              "<Figure size 576x396 with 1 Axes>"
            ]
          },
          "metadata": {
            "tags": []
          }
        }
      ]
    },
    {
      "metadata": {
        "id": "UryDxsqOXKwe",
        "colab_type": "text"
      },
      "cell_type": "markdown",
      "source": [
        "## Alcohol"
      ]
    },
    {
      "metadata": {
        "id": "gSGA-BSgXlw3",
        "colab_type": "code",
        "outputId": "6a35bb7a-5fd7-42bc-d8c8-e7999a25f413",
        "colab": {
          "resources": {
            "http://localhost:8080/nbextensions/google.colab/files.js": {
              "data": "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",
              "ok": true,
              "headers": [
                [
                  "content-type",
                  "application/javascript"
                ]
              ],
              "status": 200,
              "status_text": ""
            }
          },
          "base_uri": "https://localhost:8080/",
          "height": 110
        }
      },
      "cell_type": "code",
      "source": [
        "from google.colab import files\n",
        "files.upload()"
      ],
      "execution_count": 0,
      "outputs": [
        {
          "output_type": "display_data",
          "data": {
            "text/html": [
              "\n",
              "     <input type=\"file\" id=\"files-4292217e-dd2f-4ba8-b465-16fcaf873b7f\" name=\"files[]\" multiple disabled />\n",
              "     <output id=\"result-4292217e-dd2f-4ba8-b465-16fcaf873b7f\">\n",
              "      Upload widget is only available when the cell has been executed in the\n",
              "      current browser session. Please rerun this cell to enable.\n",
              "      </output>\n",
              "      <script src=\"/nbextensions/google.colab/files.js\"></script> "
            ],
            "text/plain": [
              "<IPython.core.display.HTML object>"
            ]
          },
          "metadata": {
            "tags": []
          }
        },
        {
          "output_type": "stream",
          "text": [
            "Saving alcohol_hs.csv to alcohol_hs.csv\n"
          ],
          "name": "stdout"
        },
        {
          "output_type": "execute_result",
          "data": {
            "text/plain": [
              "{'alcohol_hs.csv': b'Categories,\"2,008\",\"2,009\",2010,2011,2012,2013,2014,2015,2016,2017\\r\\nTotal (percentage in 1 year),43.1,43.5,41.2,40,41.5,39.2,37.4,35.3,33.2,33.2\\r\\nMale,45.8,47.8,44.2,42.1,43.8,41.8,37.4,36,34.5,34.1\\r\\nFemale,40.9,38.9,37.9,37.5,38.8,36.3,37.1,35,32,32.3\\r\\nNone or under 4 years,49.7,51,47.9,45.2,44.2,45.3,40.2,37.9,35.6,35.7\\r\\nComplete 4 years,41.7,41.6,39.3,38.8,40.7,37.9,36.6,35,32.5,32.8\\r\\nNortheast,49.1,48.4,49.2,46.3,48.1,45.7,41.6,42.7,36.9,37.3\\r\\nMidwest,42.8,45,40.8,41.2,41.8,39,40.2,33.6,33.7,34\\r\\nSouth,42.9,42,39.6,37.5,36.6,35.4,34.6,33.1,31.3,31.7\\r\\nWest,39.2,39.2,37.4,38,43.1,39.8,36.1,35.4,33.8,32.1\\r\\n1.0-2.0 (Low),41.4,39.8,36.4,36.7,41.4,36.1,32.5,32.5,31.7,28.9\\r\\n2.5-3.0,42.4,43.4,42.4,38.8,41.4,40.3,38.2,35.3,31.4,31.1\\r\\n3.5-4.0,43.2,46.9,41.6,41.2,42.7,41.1,37.9,36.5,32.8,33.2\\r\\n4.5-5.0,43.9,42,42.1,40.1,41.7,39.5,38.7,36.1,35.7,35.8\\r\\n5.5-6.0 (High),45.9,43.3,38.4,41.9,41.7,38.7,40.6,36.3,34.4,38.3\\r\\nWhite,48.6,47.2,45.4,43.8,43.8,43.6,42.5,40.9,39,39\\r\\nAfrican-American,28.6,30.5,31.4,30.1,29.6,28.4,25.9,24,21.8,20.3\\r\\nHispanic,38.9,40.1,40.1,39.7,39.8,39,37,36.3,34.9,30.9'}"
            ]
          },
          "metadata": {
            "tags": []
          },
          "execution_count": 299
        }
      ]
    },
    {
      "metadata": {
        "id": "iPkgQRHLcvBX",
        "colab_type": "code",
        "outputId": "f465febd-8045-43b3-b13c-3579129e8608",
        "colab": {
          "base_uri": "https://localhost:8080/",
          "height": 477
        }
      },
      "cell_type": "code",
      "source": [
        "import pandas as pd\n",
        "df = pd.read_csv('alcohol_hs.csv')\n",
        "print(df.keys())\n",
        "df.set_index('Categories',inplace=True)\n",
        "df = df.transpose()\n",
        "df"
      ],
      "execution_count": 0,
      "outputs": [
        {
          "output_type": "stream",
          "text": [
            "Index(['Categories', '2,008', '2,009', '2010', '2011', '2012', '2013', '2014',\n",
            "       '2015', '2016', '2017'],\n",
            "      dtype='object')\n"
          ],
          "name": "stdout"
        },
        {
          "output_type": "execute_result",
          "data": {
            "text/html": [
              "<div>\n",
              "<style scoped>\n",
              "    .dataframe tbody tr th:only-of-type {\n",
              "        vertical-align: middle;\n",
              "    }\n",
              "\n",
              "    .dataframe tbody tr th {\n",
              "        vertical-align: top;\n",
              "    }\n",
              "\n",
              "    .dataframe thead th {\n",
              "        text-align: right;\n",
              "    }\n",
              "</style>\n",
              "<table border=\"1\" class=\"dataframe\">\n",
              "  <thead>\n",
              "    <tr style=\"text-align: right;\">\n",
              "      <th>Categories</th>\n",
              "      <th>Total (percentage in 1 year)</th>\n",
              "      <th>Male</th>\n",
              "      <th>Female</th>\n",
              "      <th>None or under 4 years</th>\n",
              "      <th>Complete 4 years</th>\n",
              "      <th>Northeast</th>\n",
              "      <th>Midwest</th>\n",
              "      <th>South</th>\n",
              "      <th>West</th>\n",
              "      <th>1.0-2.0 (Low)</th>\n",
              "      <th>2.5-3.0</th>\n",
              "      <th>3.5-4.0</th>\n",
              "      <th>4.5-5.0</th>\n",
              "      <th>5.5-6.0 (High)</th>\n",
              "      <th>White</th>\n",
              "      <th>African-American</th>\n",
              "      <th>Hispanic</th>\n",
              "    </tr>\n",
              "  </thead>\n",
              "  <tbody>\n",
              "    <tr>\n",
              "      <th>2,008</th>\n",
              "      <td>43.1</td>\n",
              "      <td>45.8</td>\n",
              "      <td>40.9</td>\n",
              "      <td>49.7</td>\n",
              "      <td>41.7</td>\n",
              "      <td>49.1</td>\n",
              "      <td>42.8</td>\n",
              "      <td>42.9</td>\n",
              "      <td>39.2</td>\n",
              "      <td>41.4</td>\n",
              "      <td>42.4</td>\n",
              "      <td>43.2</td>\n",
              "      <td>43.9</td>\n",
              "      <td>45.9</td>\n",
              "      <td>48.6</td>\n",
              "      <td>28.6</td>\n",
              "      <td>38.9</td>\n",
              "    </tr>\n",
              "    <tr>\n",
              "      <th>2,009</th>\n",
              "      <td>43.5</td>\n",
              "      <td>47.8</td>\n",
              "      <td>38.9</td>\n",
              "      <td>51.0</td>\n",
              "      <td>41.6</td>\n",
              "      <td>48.4</td>\n",
              "      <td>45.0</td>\n",
              "      <td>42.0</td>\n",
              "      <td>39.2</td>\n",
              "      <td>39.8</td>\n",
              "      <td>43.4</td>\n",
              "      <td>46.9</td>\n",
              "      <td>42.0</td>\n",
              "      <td>43.3</td>\n",
              "      <td>47.2</td>\n",
              "      <td>30.5</td>\n",
              "      <td>40.1</td>\n",
              "    </tr>\n",
              "    <tr>\n",
              "      <th>2010</th>\n",
              "      <td>41.2</td>\n",
              "      <td>44.2</td>\n",
              "      <td>37.9</td>\n",
              "      <td>47.9</td>\n",
              "      <td>39.3</td>\n",
              "      <td>49.2</td>\n",
              "      <td>40.8</td>\n",
              "      <td>39.6</td>\n",
              "      <td>37.4</td>\n",
              "      <td>36.4</td>\n",
              "      <td>42.4</td>\n",
              "      <td>41.6</td>\n",
              "      <td>42.1</td>\n",
              "      <td>38.4</td>\n",
              "      <td>45.4</td>\n",
              "      <td>31.4</td>\n",
              "      <td>40.1</td>\n",
              "    </tr>\n",
              "    <tr>\n",
              "      <th>2011</th>\n",
              "      <td>40.0</td>\n",
              "      <td>42.1</td>\n",
              "      <td>37.5</td>\n",
              "      <td>45.2</td>\n",
              "      <td>38.8</td>\n",
              "      <td>46.3</td>\n",
              "      <td>41.2</td>\n",
              "      <td>37.5</td>\n",
              "      <td>38.0</td>\n",
              "      <td>36.7</td>\n",
              "      <td>38.8</td>\n",
              "      <td>41.2</td>\n",
              "      <td>40.1</td>\n",
              "      <td>41.9</td>\n",
              "      <td>43.8</td>\n",
              "      <td>30.1</td>\n",
              "      <td>39.7</td>\n",
              "    </tr>\n",
              "    <tr>\n",
              "      <th>2012</th>\n",
              "      <td>41.5</td>\n",
              "      <td>43.8</td>\n",
              "      <td>38.8</td>\n",
              "      <td>44.2</td>\n",
              "      <td>40.7</td>\n",
              "      <td>48.1</td>\n",
              "      <td>41.8</td>\n",
              "      <td>36.6</td>\n",
              "      <td>43.1</td>\n",
              "      <td>41.4</td>\n",
              "      <td>41.4</td>\n",
              "      <td>42.7</td>\n",
              "      <td>41.7</td>\n",
              "      <td>41.7</td>\n",
              "      <td>43.8</td>\n",
              "      <td>29.6</td>\n",
              "      <td>39.8</td>\n",
              "    </tr>\n",
              "    <tr>\n",
              "      <th>2013</th>\n",
              "      <td>39.2</td>\n",
              "      <td>41.8</td>\n",
              "      <td>36.3</td>\n",
              "      <td>45.3</td>\n",
              "      <td>37.9</td>\n",
              "      <td>45.7</td>\n",
              "      <td>39.0</td>\n",
              "      <td>35.4</td>\n",
              "      <td>39.8</td>\n",
              "      <td>36.1</td>\n",
              "      <td>40.3</td>\n",
              "      <td>41.1</td>\n",
              "      <td>39.5</td>\n",
              "      <td>38.7</td>\n",
              "      <td>43.6</td>\n",
              "      <td>28.4</td>\n",
              "      <td>39.0</td>\n",
              "    </tr>\n",
              "    <tr>\n",
              "      <th>2014</th>\n",
              "      <td>37.4</td>\n",
              "      <td>37.4</td>\n",
              "      <td>37.1</td>\n",
              "      <td>40.2</td>\n",
              "      <td>36.6</td>\n",
              "      <td>41.6</td>\n",
              "      <td>40.2</td>\n",
              "      <td>34.6</td>\n",
              "      <td>36.1</td>\n",
              "      <td>32.5</td>\n",
              "      <td>38.2</td>\n",
              "      <td>37.9</td>\n",
              "      <td>38.7</td>\n",
              "      <td>40.6</td>\n",
              "      <td>42.5</td>\n",
              "      <td>25.9</td>\n",
              "      <td>37.0</td>\n",
              "    </tr>\n",
              "    <tr>\n",
              "      <th>2015</th>\n",
              "      <td>35.3</td>\n",
              "      <td>36.0</td>\n",
              "      <td>35.0</td>\n",
              "      <td>37.9</td>\n",
              "      <td>35.0</td>\n",
              "      <td>42.7</td>\n",
              "      <td>33.6</td>\n",
              "      <td>33.1</td>\n",
              "      <td>35.4</td>\n",
              "      <td>32.5</td>\n",
              "      <td>35.3</td>\n",
              "      <td>36.5</td>\n",
              "      <td>36.1</td>\n",
              "      <td>36.3</td>\n",
              "      <td>40.9</td>\n",
              "      <td>24.0</td>\n",
              "      <td>36.3</td>\n",
              "    </tr>\n",
              "    <tr>\n",
              "      <th>2016</th>\n",
              "      <td>33.2</td>\n",
              "      <td>34.5</td>\n",
              "      <td>32.0</td>\n",
              "      <td>35.6</td>\n",
              "      <td>32.5</td>\n",
              "      <td>36.9</td>\n",
              "      <td>33.7</td>\n",
              "      <td>31.3</td>\n",
              "      <td>33.8</td>\n",
              "      <td>31.7</td>\n",
              "      <td>31.4</td>\n",
              "      <td>32.8</td>\n",
              "      <td>35.7</td>\n",
              "      <td>34.4</td>\n",
              "      <td>39.0</td>\n",
              "      <td>21.8</td>\n",
              "      <td>34.9</td>\n",
              "    </tr>\n",
              "    <tr>\n",
              "      <th>2017</th>\n",
              "      <td>33.2</td>\n",
              "      <td>34.1</td>\n",
              "      <td>32.3</td>\n",
              "      <td>35.7</td>\n",
              "      <td>32.8</td>\n",
              "      <td>37.3</td>\n",
              "      <td>34.0</td>\n",
              "      <td>31.7</td>\n",
              "      <td>32.1</td>\n",
              "      <td>28.9</td>\n",
              "      <td>31.1</td>\n",
              "      <td>33.2</td>\n",
              "      <td>35.8</td>\n",
              "      <td>38.3</td>\n",
              "      <td>39.0</td>\n",
              "      <td>20.3</td>\n",
              "      <td>30.9</td>\n",
              "    </tr>\n",
              "  </tbody>\n",
              "</table>\n",
              "</div>"
            ],
            "text/plain": [
              "Categories  Total (percentage in 1 year)  Male  Female  None or under 4 years  \\\n",
              "2,008                               43.1  45.8    40.9                   49.7   \n",
              "2,009                               43.5  47.8    38.9                   51.0   \n",
              "2010                                41.2  44.2    37.9                   47.9   \n",
              "2011                                40.0  42.1    37.5                   45.2   \n",
              "2012                                41.5  43.8    38.8                   44.2   \n",
              "2013                                39.2  41.8    36.3                   45.3   \n",
              "2014                                37.4  37.4    37.1                   40.2   \n",
              "2015                                35.3  36.0    35.0                   37.9   \n",
              "2016                                33.2  34.5    32.0                   35.6   \n",
              "2017                                33.2  34.1    32.3                   35.7   \n",
              "\n",
              "Categories  Complete 4 years  Northeast  Midwest  South  West  1.0-2.0 (Low)  \\\n",
              "2,008                   41.7       49.1     42.8   42.9  39.2           41.4   \n",
              "2,009                   41.6       48.4     45.0   42.0  39.2           39.8   \n",
              "2010                    39.3       49.2     40.8   39.6  37.4           36.4   \n",
              "2011                    38.8       46.3     41.2   37.5  38.0           36.7   \n",
              "2012                    40.7       48.1     41.8   36.6  43.1           41.4   \n",
              "2013                    37.9       45.7     39.0   35.4  39.8           36.1   \n",
              "2014                    36.6       41.6     40.2   34.6  36.1           32.5   \n",
              "2015                    35.0       42.7     33.6   33.1  35.4           32.5   \n",
              "2016                    32.5       36.9     33.7   31.3  33.8           31.7   \n",
              "2017                    32.8       37.3     34.0   31.7  32.1           28.9   \n",
              "\n",
              "Categories  2.5-3.0  3.5-4.0  4.5-5.0  5.5-6.0 (High)  White  \\\n",
              "2,008          42.4     43.2     43.9            45.9   48.6   \n",
              "2,009          43.4     46.9     42.0            43.3   47.2   \n",
              "2010           42.4     41.6     42.1            38.4   45.4   \n",
              "2011           38.8     41.2     40.1            41.9   43.8   \n",
              "2012           41.4     42.7     41.7            41.7   43.8   \n",
              "2013           40.3     41.1     39.5            38.7   43.6   \n",
              "2014           38.2     37.9     38.7            40.6   42.5   \n",
              "2015           35.3     36.5     36.1            36.3   40.9   \n",
              "2016           31.4     32.8     35.7            34.4   39.0   \n",
              "2017           31.1     33.2     35.8            38.3   39.0   \n",
              "\n",
              "Categories  African-American  Hispanic  \n",
              "2,008                   28.6      38.9  \n",
              "2,009                   30.5      40.1  \n",
              "2010                    31.4      40.1  \n",
              "2011                    30.1      39.7  \n",
              "2012                    29.6      39.8  \n",
              "2013                    28.4      39.0  \n",
              "2014                    25.9      37.0  \n",
              "2015                    24.0      36.3  \n",
              "2016                    21.8      34.9  \n",
              "2017                    20.3      30.9  "
            ]
          },
          "metadata": {
            "tags": []
          },
          "execution_count": 300
        }
      ]
    },
    {
      "metadata": {
        "id": "SGAsYNRIdLaz",
        "colab_type": "code",
        "outputId": "52fd6eab-91e3-42f4-827c-601d9bf51020",
        "colab": {
          "base_uri": "https://localhost:8080/",
          "height": 156
        }
      },
      "cell_type": "code",
      "source": [
        "y_col = 'Total (percentage in 1 year)'\n",
        "x = df.drop([y_col], axis = 1)\n",
        "y = df[y_col]\n",
        "x.keys(), y.keys()"
      ],
      "execution_count": 0,
      "outputs": [
        {
          "output_type": "execute_result",
          "data": {
            "text/plain": [
              "(Index(['Male', 'Female', 'None or under 4 years', 'Complete 4 years',\n",
              "        'Northeast', 'Midwest', 'South', 'West', '1.0-2.0 (Low)', '2.5-3.0',\n",
              "        '3.5-4.0', '4.5-5.0', '5.5-6.0 (High)', 'White', 'African-American',\n",
              "        'Hispanic'],\n",
              "       dtype='object', name='Categories'),\n",
              " Index(['2,008', '2,009', '2010', '2011', '2012', '2013', '2014', '2015',\n",
              "        '2016', '2017'],\n",
              "       dtype='object'))"
            ]
          },
          "metadata": {
            "tags": []
          },
          "execution_count": 301
        }
      ]
    },
    {
      "metadata": {
        "id": "FuDt67_ddLY2",
        "colab_type": "code",
        "outputId": "8655cd47-91a7-4889-e96d-afb2c425c713",
        "colab": {
          "base_uri": "https://localhost:8080/",
          "height": 104
        }
      },
      "cell_type": "code",
      "source": [
        "from sklearn.linear_model import Ridge\n",
        "ridgereg = Ridge(alpha = 0.5, normalize = True)\n",
        "ridgereg.fit(x, y)\n",
        "r_squared = ridgereg.score(x,y)\n",
        "print(r_squared)\n",
        "\n",
        "coef = ridgereg.coef_\n",
        "intercept = ridgereg.intercept_\n",
        "print(\"Coefficients: \", coef, \"\\nIntercepts: \", intercept)"
      ],
      "execution_count": 0,
      "outputs": [
        {
          "output_type": "stream",
          "text": [
            "0.9973393283259705\n",
            "Coefficients:  [0.06030618 0.07330651 0.04833813 0.07801303 0.05125523 0.06791522\n",
            " 0.06716736 0.05709592 0.05507608 0.05539431 0.0624733  0.08875642\n",
            " 0.06249257 0.07655752 0.05957274 0.05812711] \n",
            "Intercepts:  -0.659219101197003\n"
          ],
          "name": "stdout"
        }
      ]
    },
    {
      "metadata": {
        "id": "0JZ-vD4tdPCA",
        "colab_type": "code",
        "outputId": "2d975197-81f5-4051-beb7-ced417469ea7",
        "colab": {
          "base_uri": "https://localhost:8080/",
          "height": 425
        }
      },
      "cell_type": "code",
      "source": [
        "fig, ax = plt.subplots(1,1)\n",
        "\n",
        "ax.scatter(keys, coef)\n",
        "ax.set_title(\"Ridge Regression Coefficients for Each Factor\")\n",
        "ax.set_xlabel(\"Factors\")\n",
        "ax.set_ylabel(\"Coefficients\")\n",
        "_ = plt.setp(ax.get_xticklabels(), rotation=30, horizontalalignment='right')"
      ],
      "execution_count": 0,
      "outputs": [
        {
          "output_type": "display_data",
          "data": {
            "image/png": "[encoded data removed]",
            "text/plain": [
              "<Figure size 576x396 with 1 Axes>"
            ]
          },
          "metadata": {
            "tags": []
          }
        }
      ]
    },
    {
      "metadata": {
        "id": "1ATdXWC8ZL-N",
        "colab_type": "text"
      },
      "cell_type": "markdown",
      "source": [
        "## Nicotine"
      ]
    },
    {
      "metadata": {
        "id": "2iU6GpdNZMwE",
        "colab_type": "code",
        "colab": {}
      },
      "cell_type": "code",
      "source": [
        "from google.colab import files\n",
        "files.upload()"
      ],
      "execution_count": 0,
      "outputs": []
    },
    {
      "metadata": {
        "id": "UVo3W6tBZnpw",
        "colab_type": "code",
        "outputId": "cdfb6302-6a5a-4a0c-f0d9-cddbe728e3c0",
        "colab": {
          "base_uri": "https://localhost:8080/",
          "height": 414
        }
      },
      "cell_type": "code",
      "source": [
        "import pandas as pd\n",
        "df = pd.read_csv('nicotine_hs.csv')\n",
        "print(df.keys())\n",
        "df.set_index('Categories',inplace=True)\n",
        "df = df.transpose()\n",
        "df"
      ],
      "execution_count": 0,
      "outputs": [
        {
          "output_type": "stream",
          "text": [
            "Index(['Categories', '2,008', '2,009', '2010', '2011', '2012', '2013', '2014',\n",
            "       '2015', '2016', '2017'],\n",
            "      dtype='object')\n"
          ],
          "name": "stdout"
        },
        {
          "output_type": "execute_result",
          "data": {
            "text/html": [
              "<div>\n",
              "<style scoped>\n",
              "    .dataframe tbody tr th:only-of-type {\n",
              "        vertical-align: middle;\n",
              "    }\n",
              "\n",
              "    .dataframe tbody tr th {\n",
              "        vertical-align: top;\n",
              "    }\n",
              "\n",
              "    .dataframe thead th {\n",
              "        text-align: right;\n",
              "    }\n",
              "</style>\n",
              "<table border=\"1\" class=\"dataframe\">\n",
              "  <thead>\n",
              "    <tr style=\"text-align: right;\">\n",
              "      <th>Categories</th>\n",
              "      <th>Total (percentage in 1 year)</th>\n",
              "      <th>Male</th>\n",
              "      <th>Female</th>\n",
              "      <th>None or under 4 years</th>\n",
              "      <th>Complete 4 years</th>\n",
              "      <th>Northeast</th>\n",
              "      <th>Midwest</th>\n",
              "      <th>South</th>\n",
              "      <th>West</th>\n",
              "      <th>1.0-2.0 (Low)</th>\n",
              "      <th>2.5-3.0</th>\n",
              "      <th>3.5-4.0</th>\n",
              "      <th>4.5-5.0</th>\n",
              "      <th>5.5-6.0 (High)</th>\n",
              "      <th>White</th>\n",
              "      <th>African-American</th>\n",
              "      <th>Hispanic</th>\n",
              "    </tr>\n",
              "  </thead>\n",
              "  <tbody>\n",
              "    <tr>\n",
              "      <th>2,008</th>\n",
              "      <td>20.4</td>\n",
              "      <td>21.5</td>\n",
              "      <td>19.1</td>\n",
              "      <td>32.4</td>\n",
              "      <td>17.6</td>\n",
              "      <td>19.7</td>\n",
              "      <td>22.1</td>\n",
              "      <td>22.4</td>\n",
              "      <td>15.8</td>\n",
              "      <td>18.5</td>\n",
              "      <td>22.4</td>\n",
              "      <td>21.3</td>\n",
              "      <td>18.6</td>\n",
              "      <td>19.2</td>\n",
              "      <td>24.7</td>\n",
              "      <td>10.3</td>\n",
              "      <td>15.0</td>\n",
              "    </tr>\n",
              "    <tr>\n",
              "      <th>2,009</th>\n",
              "      <td>20.1</td>\n",
              "      <td>22.1</td>\n",
              "      <td>17.6</td>\n",
              "      <td>31.2</td>\n",
              "      <td>17.3</td>\n",
              "      <td>18.9</td>\n",
              "      <td>25.7</td>\n",
              "      <td>20.0</td>\n",
              "      <td>14.7</td>\n",
              "      <td>19.9</td>\n",
              "      <td>23.2</td>\n",
              "      <td>21.0</td>\n",
              "      <td>18.0</td>\n",
              "      <td>15.3</td>\n",
              "      <td>23.9</td>\n",
              "      <td>9.8</td>\n",
              "      <td>15.7</td>\n",
              "    </tr>\n",
              "    <tr>\n",
              "      <th>2010</th>\n",
              "      <td>19.2</td>\n",
              "      <td>21.9</td>\n",
              "      <td>15.7</td>\n",
              "      <td>31.2</td>\n",
              "      <td>16.3</td>\n",
              "      <td>18.2</td>\n",
              "      <td>21.5</td>\n",
              "      <td>20.5</td>\n",
              "      <td>15.3</td>\n",
              "      <td>17.0</td>\n",
              "      <td>21.6</td>\n",
              "      <td>20.9</td>\n",
              "      <td>17.5</td>\n",
              "      <td>12.8</td>\n",
              "      <td>22.9</td>\n",
              "      <td>10.1</td>\n",
              "      <td>15.0</td>\n",
              "    </tr>\n",
              "    <tr>\n",
              "      <th>2011</th>\n",
              "      <td>18.7</td>\n",
              "      <td>21.5</td>\n",
              "      <td>15.1</td>\n",
              "      <td>32.2</td>\n",
              "      <td>15.6</td>\n",
              "      <td>17.8</td>\n",
              "      <td>21.8</td>\n",
              "      <td>18.4</td>\n",
              "      <td>16.4</td>\n",
              "      <td>18.2</td>\n",
              "      <td>22.4</td>\n",
              "      <td>19.6</td>\n",
              "      <td>15.9</td>\n",
              "      <td>14.3</td>\n",
              "      <td>22.2</td>\n",
              "      <td>9.7</td>\n",
              "      <td>14.3</td>\n",
              "    </tr>\n",
              "    <tr>\n",
              "      <th>2012</th>\n",
              "      <td>17.1</td>\n",
              "      <td>19.3</td>\n",
              "      <td>14.5</td>\n",
              "      <td>27.9</td>\n",
              "      <td>14.7</td>\n",
              "      <td>18.8</td>\n",
              "      <td>21.0</td>\n",
              "      <td>15.6</td>\n",
              "      <td>13.9</td>\n",
              "      <td>17.0</td>\n",
              "      <td>19.0</td>\n",
              "      <td>20.1</td>\n",
              "      <td>15.7</td>\n",
              "      <td>11.2</td>\n",
              "      <td>21.2</td>\n",
              "      <td>8.6</td>\n",
              "      <td>13.2</td>\n",
              "    </tr>\n",
              "    <tr>\n",
              "      <th>2013</th>\n",
              "      <td>16.3</td>\n",
              "      <td>18.4</td>\n",
              "      <td>13.2</td>\n",
              "      <td>28.9</td>\n",
              "      <td>13.0</td>\n",
              "      <td>17.0</td>\n",
              "      <td>16.5</td>\n",
              "      <td>18.6</td>\n",
              "      <td>12.1</td>\n",
              "      <td>18.2</td>\n",
              "      <td>18.2</td>\n",
              "      <td>18.5</td>\n",
              "      <td>14.1</td>\n",
              "      <td>9.5</td>\n",
              "      <td>19.4</td>\n",
              "      <td>9.6</td>\n",
              "      <td>12.4</td>\n",
              "    </tr>\n",
              "    <tr>\n",
              "      <th>2014</th>\n",
              "      <td>13.6</td>\n",
              "      <td>15.2</td>\n",
              "      <td>11.6</td>\n",
              "      <td>25.3</td>\n",
              "      <td>10.8</td>\n",
              "      <td>11.7</td>\n",
              "      <td>13.8</td>\n",
              "      <td>15.3</td>\n",
              "      <td>11.9</td>\n",
              "      <td>14.8</td>\n",
              "      <td>16.1</td>\n",
              "      <td>14.2</td>\n",
              "      <td>12.0</td>\n",
              "      <td>9.4</td>\n",
              "      <td>17.5</td>\n",
              "      <td>9.0</td>\n",
              "      <td>11.4</td>\n",
              "    </tr>\n",
              "    <tr>\n",
              "      <th>2015</th>\n",
              "      <td>11.4</td>\n",
              "      <td>13.0</td>\n",
              "      <td>9.1</td>\n",
              "      <td>21.9</td>\n",
              "      <td>8.9</td>\n",
              "      <td>10.8</td>\n",
              "      <td>12.7</td>\n",
              "      <td>12.5</td>\n",
              "      <td>8.6</td>\n",
              "      <td>12.9</td>\n",
              "      <td>13.9</td>\n",
              "      <td>12.2</td>\n",
              "      <td>9.7</td>\n",
              "      <td>7.5</td>\n",
              "      <td>15.0</td>\n",
              "      <td>6.9</td>\n",
              "      <td>9.6</td>\n",
              "    </tr>\n",
              "    <tr>\n",
              "      <th>2016</th>\n",
              "      <td>10.5</td>\n",
              "      <td>12.7</td>\n",
              "      <td>8.1</td>\n",
              "      <td>19.2</td>\n",
              "      <td>8.4</td>\n",
              "      <td>10.9</td>\n",
              "      <td>12.0</td>\n",
              "      <td>10.8</td>\n",
              "      <td>8.3</td>\n",
              "      <td>9.9</td>\n",
              "      <td>12.0</td>\n",
              "      <td>11.9</td>\n",
              "      <td>9.1</td>\n",
              "      <td>7.6</td>\n",
              "      <td>13.2</td>\n",
              "      <td>6.0</td>\n",
              "      <td>8.2</td>\n",
              "    </tr>\n",
              "    <tr>\n",
              "      <th>2017</th>\n",
              "      <td>9.7</td>\n",
              "      <td>10.6</td>\n",
              "      <td>8.3</td>\n",
              "      <td>16.5</td>\n",
              "      <td>8.0</td>\n",
              "      <td>9.6</td>\n",
              "      <td>9.6</td>\n",
              "      <td>11.2</td>\n",
              "      <td>7.1</td>\n",
              "      <td>7.9</td>\n",
              "      <td>11.3</td>\n",
              "      <td>10.4</td>\n",
              "      <td>8.7</td>\n",
              "      <td>8.1</td>\n",
              "      <td>12.7</td>\n",
              "      <td>5.0</td>\n",
              "      <td>6.9</td>\n",
              "    </tr>\n",
              "  </tbody>\n",
              "</table>\n",
              "</div>"
            ],
            "text/plain": [
              "Categories  Total (percentage in 1 year)  Male  Female  None or under 4 years  \\\n",
              "2,008                               20.4  21.5    19.1                   32.4   \n",
              "2,009                               20.1  22.1    17.6                   31.2   \n",
              "2010                                19.2  21.9    15.7                   31.2   \n",
              "2011                                18.7  21.5    15.1                   32.2   \n",
              "2012                                17.1  19.3    14.5                   27.9   \n",
              "2013                                16.3  18.4    13.2                   28.9   \n",
              "2014                                13.6  15.2    11.6                   25.3   \n",
              "2015                                11.4  13.0     9.1                   21.9   \n",
              "2016                                10.5  12.7     8.1                   19.2   \n",
              "2017                                 9.7  10.6     8.3                   16.5   \n",
              "\n",
              "Categories  Complete 4 years  Northeast  Midwest  South  West  1.0-2.0 (Low)  \\\n",
              "2,008                   17.6       19.7     22.1   22.4  15.8           18.5   \n",
              "2,009                   17.3       18.9     25.7   20.0  14.7           19.9   \n",
              "2010                    16.3       18.2     21.5   20.5  15.3           17.0   \n",
              "2011                    15.6       17.8     21.8   18.4  16.4           18.2   \n",
              "2012                    14.7       18.8     21.0   15.6  13.9           17.0   \n",
              "2013                    13.0       17.0     16.5   18.6  12.1           18.2   \n",
              "2014                    10.8       11.7     13.8   15.3  11.9           14.8   \n",
              "2015                     8.9       10.8     12.7   12.5   8.6           12.9   \n",
              "2016                     8.4       10.9     12.0   10.8   8.3            9.9   \n",
              "2017                     8.0        9.6      9.6   11.2   7.1            7.9   \n",
              "\n",
              "Categories  2.5-3.0  3.5-4.0  4.5-5.0  5.5-6.0 (High)  White  \\\n",
              "2,008          22.4     21.3     18.6            19.2   24.7   \n",
              "2,009          23.2     21.0     18.0            15.3   23.9   \n",
              "2010           21.6     20.9     17.5            12.8   22.9   \n",
              "2011           22.4     19.6     15.9            14.3   22.2   \n",
              "2012           19.0     20.1     15.7            11.2   21.2   \n",
              "2013           18.2     18.5     14.1             9.5   19.4   \n",
              "2014           16.1     14.2     12.0             9.4   17.5   \n",
              "2015           13.9     12.2      9.7             7.5   15.0   \n",
              "2016           12.0     11.9      9.1             7.6   13.2   \n",
              "2017           11.3     10.4      8.7             8.1   12.7   \n",
              "\n",
              "Categories  African-American  Hispanic  \n",
              "2,008                   10.3      15.0  \n",
              "2,009                    9.8      15.7  \n",
              "2010                    10.1      15.0  \n",
              "2011                     9.7      14.3  \n",
              "2012                     8.6      13.2  \n",
              "2013                     9.6      12.4  \n",
              "2014                     9.0      11.4  \n",
              "2015                     6.9       9.6  \n",
              "2016                     6.0       8.2  \n",
              "2017                     5.0       6.9  "
            ]
          },
          "metadata": {
            "tags": []
          },
          "execution_count": 295
        }
      ]
    },
    {
      "metadata": {
        "id": "L0ucWMyaaUDQ",
        "colab_type": "code",
        "outputId": "e39ac4b1-778a-418b-afe5-93d5c765d4f3",
        "colab": {
          "base_uri": "https://localhost:8080/",
          "height": 156
        }
      },
      "cell_type": "code",
      "source": [
        "y_col = 'Total (percentage in 1 year)'\n",
        "x = df.drop([y_col], axis = 1)\n",
        "y = df[y_col]\n",
        "x.keys(), y.keys()"
      ],
      "execution_count": 0,
      "outputs": [
        {
          "output_type": "execute_result",
          "data": {
            "text/plain": [
              "(Index(['Male', 'Female', 'None or under 4 years', 'Complete 4 years',\n",
              "        'Northeast', 'Midwest', 'South', 'West', '1.0-2.0 (Low)', '2.5-3.0',\n",
              "        '3.5-4.0', '4.5-5.0', '5.5-6.0 (High)', 'White', 'African-American',\n",
              "        'Hispanic'],\n",
              "       dtype='object', name='Categories'),\n",
              " Index(['2,008', '2,009', '2010', '2011', '2012', '2013', '2014', '2015',\n",
              "        '2016', '2017'],\n",
              "       dtype='object'))"
            ]
          },
          "metadata": {
            "tags": []
          },
          "execution_count": 296
        }
      ]
    },
    {
      "metadata": {
        "id": "2fc5e1f3Znza",
        "colab_type": "code",
        "outputId": "a6e6f91a-a2d6-45ab-8f6f-ee46a9b864cc",
        "colab": {
          "base_uri": "https://localhost:8080/",
          "height": 104
        }
      },
      "cell_type": "code",
      "source": [
        "from sklearn.linear_model import Ridge\n",
        "ridgereg = Ridge(alpha = 0.5, normalize = True)\n",
        "ridgereg.fit(x, y)\n",
        "r_squared = ridgereg.score(x,y)\n",
        "print(r_squared)\n",
        "\n",
        "coef = ridgereg.coef_\n",
        "intercept = ridgereg.intercept_\n",
        "print(\"Coefficients: \", coef, \"\\nIntercepts: \", intercept)\n"
      ],
      "execution_count": 0,
      "outputs": [
        {
          "output_type": "stream",
          "text": [
            "0.9974883621976892\n",
            "Coefficients:  [0.06334573 0.06830361 0.03977868 0.0761912  0.06815649 0.05117599\n",
            " 0.06609917 0.06837092 0.04877067 0.05988052 0.06296187 0.07386901\n",
            " 0.06497514 0.05846397 0.10037229 0.08051318] \n",
            "Intercepts:  0.09620309580342656\n"
          ],
          "name": "stdout"
        }
      ]
    },
    {
      "metadata": {
        "id": "F-ShKsNhcPUu",
        "colab_type": "code",
        "outputId": "1cc508da-aaec-4bd4-e863-ea4e30e77ca6",
        "colab": {
          "base_uri": "https://localhost:8080/",
          "height": 425
        }
      },
      "cell_type": "code",
      "source": [
        "fig, ax = plt.subplots(1,1)\n",
        "\n",
        "ax.scatter(keys, coef)\n",
        "ax.set_title(\"Ridge Regression Coefficients for Each Factor\")\n",
        "ax.set_xlabel(\"Factors\")\n",
        "ax.set_ylabel(\"Coefficients\")\n",
        "_ = plt.setp(ax.get_xticklabels(), rotation=30, horizontalalignment='right')"
      ],
      "execution_count": 0,
      "outputs": [
        {
          "output_type": "display_data",
          "data": {
            "image/png": "[encoded data removed]",
            "text/plain": [
              "<Figure size 576x396 with 1 Axes>"
            ]
          },
          "metadata": {
            "tags": []
          }
        }
      ]
    },
    {
      "metadata": {
        "id": "if3JnrPbc9N8",
        "colab_type": "text"
      },
      "cell_type": "markdown",
      "source": [
        "## Opioids"
      ]
    },
    {
      "metadata": {
        "id": "afDIhtxvdAMM",
        "colab_type": "code",
        "outputId": "e465e482-ea40-4560-e86e-e0842e88af55",
        "colab": {
          "resources": {
            "http://localhost:8080/nbextensions/google.colab/files.js": {
              "data": "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",
              "ok": true,
              "headers": [
                [
                  "content-type",
                  "application/javascript"
                ]
              ],
              "status": 200,
              "status_text": ""
            }
          },
          "base_uri": "https://localhost:8080/",
          "height": 110
        }
      },
      "cell_type": "code",
      "source": [
        "from google.colab import files\n",
        "files.upload()"
      ],
      "execution_count": 0,
      "outputs": [
        {
          "output_type": "display_data",
          "data": {
            "text/html": [
              "\n",
              "     <input type=\"file\" id=\"files-7279d484-ba85-421c-bfb5-e6adfd52ff06\" name=\"files[]\" multiple disabled />\n",
              "     <output id=\"result-7279d484-ba85-421c-bfb5-e6adfd52ff06\">\n",
              "      Upload widget is only available when the cell has been executed in the\n",
              "      current browser session. Please rerun this cell to enable.\n",
              "      </output>\n",
              "      <script src=\"/nbextensions/google.colab/files.js\"></script> "
            ],
            "text/plain": [
              "<IPython.core.display.HTML object>"
            ]
          },
          "metadata": {
            "tags": []
          }
        },
        {
          "output_type": "stream",
          "text": [
            "Saving opioids_hs.csv to opioids_hs.csv\n"
          ],
          "name": "stdout"
        },
        {
          "output_type": "execute_result",
          "data": {
            "text/plain": [
              "{'opioids_hs.csv': b'Categories,\"2,008\",\"2,009\",2010,2011,2012,2013,2014,2015,2016,2017\\r\\nTotal (percentage in 1 year),0.7,0.7,0.9,0.8,0.6,0.6,0.6,0.5,0.3,0.4\\r\\nMale,1,1,1.1,1,0.8,0.8,0.9,0.7,0.4,0.4\\r\\nFemale,0.4,0.5,0.5,0.4,0.4,0.3,0.2,0.2,0.2,0.3\\r\\nNone or under 4 years,1.4,1.1,1.7,1.2,1.2,1,1.1,1.3,0.8,0.7\\r\\nComplete 4 years,0.5,0.6,0.6,0.7,0.5,0.4,0.5,0.3,0.1,0.2\\r\\nNortheast,0.7,0.8,1.3,0.7,0.8,0.6,0.8,0.3,0.2,0.1\\r\\nMidwest,0.6,0.8,0.9,0.7,0.7,0.6,0.6,0.6,0.4,0.2\\r\\nSouth,0.7,0.6,0.7,0.7,0.4,0.5,0.5,0.4,0.2,0.6\\r\\nWest,1,0.9,0.7,1,0.8,0.7,0.5,0.6,0.4,0.4\\r\\n1.0-2.0 (Low),1.3,1.5,1.1,1,1.3,1,1.3,0.8,0.5,0.7\\r\\n2.5-3.0,0.5,0.8,1,0.5,0.8,0.6,0.6,0.4,0.2,0.6\\r\\n3.5-4.0,0.9,0.6,0.9,0.8,0.4,0.4,0.3,0.6,0.3,0.3\\r\\n4.5-5.0,0.5,0.6,0.7,0.8,0.5,0.5,0.7,0.4,0.2,0.2\\r\\n5.5-6.0 (High),0.7,0.5,0.6,0.7,0.4,0.6,0.5,0.2,0.3,0.2\\r\\nWhite,0.9,0.7,0.8,0.9,0.7,0.5,0.4,0.4,0.3,0.2\\r\\nAfrican-American,0.4,0.4,0.6,0.7,0.8,0.8,0.9,1,0.6,0.5\\r\\nHispanic,0.9,0.7,0.6,0.5,0.4,0.5,0.6,0.5,0.4,0.4'}"
            ]
          },
          "metadata": {
            "tags": []
          },
          "execution_count": 305
        }
      ]
    },
    {
      "metadata": {
        "colab_type": "code",
        "outputId": "cbf93a50-de12-4bcd-ed28-c2d63abe2872",
        "id": "-5s6euW0dU0O",
        "colab": {
          "base_uri": "https://localhost:8080/",
          "height": 414
        }
      },
      "cell_type": "code",
      "source": [
        "import pandas as pd\n",
        "df = pd.read_csv('opioids_hs.csv')\n",
        "print(df.keys())\n",
        "df.set_index('Categories',inplace=True)\n",
        "df = df.transpose()\n",
        "df"
      ],
      "execution_count": 0,
      "outputs": [
        {
          "output_type": "stream",
          "text": [
            "Index(['Categories', '2,008', '2,009', '2010', '2011', '2012', '2013', '2014',\n",
            "       '2015', '2016', '2017'],\n",
            "      dtype='object')\n"
          ],
          "name": "stdout"
        },
        {
          "output_type": "execute_result",
          "data": {
            "text/html": [
              "<div>\n",
              "<style scoped>\n",
              "    .dataframe tbody tr th:only-of-type {\n",
              "        vertical-align: middle;\n",
              "    }\n",
              "\n",
              "    .dataframe tbody tr th {\n",
              "        vertical-align: top;\n",
              "    }\n",
              "\n",
              "    .dataframe thead th {\n",
              "        text-align: right;\n",
              "    }\n",
              "</style>\n",
              "<table border=\"1\" class=\"dataframe\">\n",
              "  <thead>\n",
              "    <tr style=\"text-align: right;\">\n",
              "      <th>Categories</th>\n",
              "      <th>Total (percentage in 1 year)</th>\n",
              "      <th>Male</th>\n",
              "      <th>Female</th>\n",
              "      <th>None or under 4 years</th>\n",
              "      <th>Complete 4 years</th>\n",
              "      <th>Northeast</th>\n",
              "      <th>Midwest</th>\n",
              "      <th>South</th>\n",
              "      <th>West</th>\n",
              "      <th>1.0-2.0 (Low)</th>\n",
              "      <th>2.5-3.0</th>\n",
              "      <th>3.5-4.0</th>\n",
              "      <th>4.5-5.0</th>\n",
              "      <th>5.5-6.0 (High)</th>\n",
              "      <th>White</th>\n",
              "      <th>African-American</th>\n",
              "      <th>Hispanic</th>\n",
              "    </tr>\n",
              "  </thead>\n",
              "  <tbody>\n",
              "    <tr>\n",
              "      <th>2,008</th>\n",
              "      <td>0.7</td>\n",
              "      <td>1.0</td>\n",
              "      <td>0.4</td>\n",
              "      <td>1.4</td>\n",
              "      <td>0.5</td>\n",
              "      <td>0.7</td>\n",
              "      <td>0.6</td>\n",
              "      <td>0.7</td>\n",
              "      <td>1.0</td>\n",
              "      <td>1.3</td>\n",
              "      <td>0.5</td>\n",
              "      <td>0.9</td>\n",
              "      <td>0.5</td>\n",
              "      <td>0.7</td>\n",
              "      <td>0.9</td>\n",
              "      <td>0.4</td>\n",
              "      <td>0.9</td>\n",
              "    </tr>\n",
              "    <tr>\n",
              "      <th>2,009</th>\n",
              "      <td>0.7</td>\n",
              "      <td>1.0</td>\n",
              "      <td>0.5</td>\n",
              "      <td>1.1</td>\n",
              "      <td>0.6</td>\n",
              "      <td>0.8</td>\n",
              "      <td>0.8</td>\n",
              "      <td>0.6</td>\n",
              "      <td>0.9</td>\n",
              "      <td>1.5</td>\n",
              "      <td>0.8</td>\n",
              "      <td>0.6</td>\n",
              "      <td>0.6</td>\n",
              "      <td>0.5</td>\n",
              "      <td>0.7</td>\n",
              "      <td>0.4</td>\n",
              "      <td>0.7</td>\n",
              "    </tr>\n",
              "    <tr>\n",
              "      <th>2010</th>\n",
              "      <td>0.9</td>\n",
              "      <td>1.1</td>\n",
              "      <td>0.5</td>\n",
              "      <td>1.7</td>\n",
              "      <td>0.6</td>\n",
              "      <td>1.3</td>\n",
              "      <td>0.9</td>\n",
              "      <td>0.7</td>\n",
              "      <td>0.7</td>\n",
              "      <td>1.1</td>\n",
              "      <td>1.0</td>\n",
              "      <td>0.9</td>\n",
              "      <td>0.7</td>\n",
              "      <td>0.6</td>\n",
              "      <td>0.8</td>\n",
              "      <td>0.6</td>\n",
              "      <td>0.6</td>\n",
              "    </tr>\n",
              "    <tr>\n",
              "      <th>2011</th>\n",
              "      <td>0.8</td>\n",
              "      <td>1.0</td>\n",
              "      <td>0.4</td>\n",
              "      <td>1.2</td>\n",
              "      <td>0.7</td>\n",
              "      <td>0.7</td>\n",
              "      <td>0.7</td>\n",
              "      <td>0.7</td>\n",
              "      <td>1.0</td>\n",
              "      <td>1.0</td>\n",
              "      <td>0.5</td>\n",
              "      <td>0.8</td>\n",
              "      <td>0.8</td>\n",
              "      <td>0.7</td>\n",
              "      <td>0.9</td>\n",
              "      <td>0.7</td>\n",
              "      <td>0.5</td>\n",
              "    </tr>\n",
              "    <tr>\n",
              "      <th>2012</th>\n",
              "      <td>0.6</td>\n",
              "      <td>0.8</td>\n",
              "      <td>0.4</td>\n",
              "      <td>1.2</td>\n",
              "      <td>0.5</td>\n",
              "      <td>0.8</td>\n",
              "      <td>0.7</td>\n",
              "      <td>0.4</td>\n",
              "      <td>0.8</td>\n",
              "      <td>1.3</td>\n",
              "      <td>0.8</td>\n",
              "      <td>0.4</td>\n",
              "      <td>0.5</td>\n",
              "      <td>0.4</td>\n",
              "      <td>0.7</td>\n",
              "      <td>0.8</td>\n",
              "      <td>0.4</td>\n",
              "    </tr>\n",
              "    <tr>\n",
              "      <th>2013</th>\n",
              "      <td>0.6</td>\n",
              "      <td>0.8</td>\n",
              "      <td>0.3</td>\n",
              "      <td>1.0</td>\n",
              "      <td>0.4</td>\n",
              "      <td>0.6</td>\n",
              "      <td>0.6</td>\n",
              "      <td>0.5</td>\n",
              "      <td>0.7</td>\n",
              "      <td>1.0</td>\n",
              "      <td>0.6</td>\n",
              "      <td>0.4</td>\n",
              "      <td>0.5</td>\n",
              "      <td>0.6</td>\n",
              "      <td>0.5</td>\n",
              "      <td>0.8</td>\n",
              "      <td>0.5</td>\n",
              "    </tr>\n",
              "    <tr>\n",
              "      <th>2014</th>\n",
              "      <td>0.6</td>\n",
              "      <td>0.9</td>\n",
              "      <td>0.2</td>\n",
              "      <td>1.1</td>\n",
              "      <td>0.5</td>\n",
              "      <td>0.8</td>\n",
              "      <td>0.6</td>\n",
              "      <td>0.5</td>\n",
              "      <td>0.5</td>\n",
              "      <td>1.3</td>\n",
              "      <td>0.6</td>\n",
              "      <td>0.3</td>\n",
              "      <td>0.7</td>\n",
              "      <td>0.5</td>\n",
              "      <td>0.4</td>\n",
              "      <td>0.9</td>\n",
              "      <td>0.6</td>\n",
              "    </tr>\n",
              "    <tr>\n",
              "      <th>2015</th>\n",
              "      <td>0.5</td>\n",
              "      <td>0.7</td>\n",
              "      <td>0.2</td>\n",
              "      <td>1.3</td>\n",
              "      <td>0.3</td>\n",
              "      <td>0.3</td>\n",
              "      <td>0.6</td>\n",
              "      <td>0.4</td>\n",
              "      <td>0.6</td>\n",
              "      <td>0.8</td>\n",
              "      <td>0.4</td>\n",
              "      <td>0.6</td>\n",
              "      <td>0.4</td>\n",
              "      <td>0.2</td>\n",
              "      <td>0.4</td>\n",
              "      <td>1.0</td>\n",
              "      <td>0.5</td>\n",
              "    </tr>\n",
              "    <tr>\n",
              "      <th>2016</th>\n",
              "      <td>0.3</td>\n",
              "      <td>0.4</td>\n",
              "      <td>0.2</td>\n",
              "      <td>0.8</td>\n",
              "      <td>0.1</td>\n",
              "      <td>0.2</td>\n",
              "      <td>0.4</td>\n",
              "      <td>0.2</td>\n",
              "      <td>0.4</td>\n",
              "      <td>0.5</td>\n",
              "      <td>0.2</td>\n",
              "      <td>0.3</td>\n",
              "      <td>0.2</td>\n",
              "      <td>0.3</td>\n",
              "      <td>0.3</td>\n",
              "      <td>0.6</td>\n",
              "      <td>0.4</td>\n",
              "    </tr>\n",
              "    <tr>\n",
              "      <th>2017</th>\n",
              "      <td>0.4</td>\n",
              "      <td>0.4</td>\n",
              "      <td>0.3</td>\n",
              "      <td>0.7</td>\n",
              "      <td>0.2</td>\n",
              "      <td>0.1</td>\n",
              "      <td>0.2</td>\n",
              "      <td>0.6</td>\n",
              "      <td>0.4</td>\n",
              "      <td>0.7</td>\n",
              "      <td>0.6</td>\n",
              "      <td>0.3</td>\n",
              "      <td>0.2</td>\n",
              "      <td>0.2</td>\n",
              "      <td>0.2</td>\n",
              "      <td>0.5</td>\n",
              "      <td>0.4</td>\n",
              "    </tr>\n",
              "  </tbody>\n",
              "</table>\n",
              "</div>"
            ],
            "text/plain": [
              "Categories  Total (percentage in 1 year)  Male  Female  None or under 4 years  \\\n",
              "2,008                                0.7   1.0     0.4                    1.4   \n",
              "2,009                                0.7   1.0     0.5                    1.1   \n",
              "2010                                 0.9   1.1     0.5                    1.7   \n",
              "2011                                 0.8   1.0     0.4                    1.2   \n",
              "2012                                 0.6   0.8     0.4                    1.2   \n",
              "2013                                 0.6   0.8     0.3                    1.0   \n",
              "2014                                 0.6   0.9     0.2                    1.1   \n",
              "2015                                 0.5   0.7     0.2                    1.3   \n",
              "2016                                 0.3   0.4     0.2                    0.8   \n",
              "2017                                 0.4   0.4     0.3                    0.7   \n",
              "\n",
              "Categories  Complete 4 years  Northeast  Midwest  South  West  1.0-2.0 (Low)  \\\n",
              "2,008                    0.5        0.7      0.6    0.7   1.0            1.3   \n",
              "2,009                    0.6        0.8      0.8    0.6   0.9            1.5   \n",
              "2010                     0.6        1.3      0.9    0.7   0.7            1.1   \n",
              "2011                     0.7        0.7      0.7    0.7   1.0            1.0   \n",
              "2012                     0.5        0.8      0.7    0.4   0.8            1.3   \n",
              "2013                     0.4        0.6      0.6    0.5   0.7            1.0   \n",
              "2014                     0.5        0.8      0.6    0.5   0.5            1.3   \n",
              "2015                     0.3        0.3      0.6    0.4   0.6            0.8   \n",
              "2016                     0.1        0.2      0.4    0.2   0.4            0.5   \n",
              "2017                     0.2        0.1      0.2    0.6   0.4            0.7   \n",
              "\n",
              "Categories  2.5-3.0  3.5-4.0  4.5-5.0  5.5-6.0 (High)  White  \\\n",
              "2,008           0.5      0.9      0.5             0.7    0.9   \n",
              "2,009           0.8      0.6      0.6             0.5    0.7   \n",
              "2010            1.0      0.9      0.7             0.6    0.8   \n",
              "2011            0.5      0.8      0.8             0.7    0.9   \n",
              "2012            0.8      0.4      0.5             0.4    0.7   \n",
              "2013            0.6      0.4      0.5             0.6    0.5   \n",
              "2014            0.6      0.3      0.7             0.5    0.4   \n",
              "2015            0.4      0.6      0.4             0.2    0.4   \n",
              "2016            0.2      0.3      0.2             0.3    0.3   \n",
              "2017            0.6      0.3      0.2             0.2    0.2   \n",
              "\n",
              "Categories  African-American  Hispanic  \n",
              "2,008                    0.4       0.9  \n",
              "2,009                    0.4       0.7  \n",
              "2010                     0.6       0.6  \n",
              "2011                     0.7       0.5  \n",
              "2012                     0.8       0.4  \n",
              "2013                     0.8       0.5  \n",
              "2014                     0.9       0.6  \n",
              "2015                     1.0       0.5  \n",
              "2016                     0.6       0.4  \n",
              "2017                     0.5       0.4  "
            ]
          },
          "metadata": {
            "tags": []
          },
          "execution_count": 309
        }
      ]
    },
    {
      "metadata": {
        "colab_type": "code",
        "outputId": "8486b726-dea8-4572-e4ff-4ccd5de5c7d5",
        "id": "pVU96GCjdU0b",
        "colab": {
          "base_uri": "https://localhost:8080/",
          "height": 156
        }
      },
      "cell_type": "code",
      "source": [
        "y_col = 'Total (percentage in 1 year)'\n",
        "x = df.drop([y_col], axis = 1)\n",
        "y = df[y_col]\n",
        "x.keys(), y.keys()"
      ],
      "execution_count": 0,
      "outputs": [
        {
          "output_type": "execute_result",
          "data": {
            "text/plain": [
              "(Index(['Male', 'Female', 'None or under 4 years', 'Complete 4 years',\n",
              "        'Northeast', 'Midwest', 'South', 'West', '1.0-2.0 (Low)', '2.5-3.0',\n",
              "        '3.5-4.0', '4.5-5.0', '5.5-6.0 (High)', 'White', 'African-American',\n",
              "        'Hispanic'],\n",
              "       dtype='object', name='Categories'),\n",
              " Index(['2,008', '2,009', '2010', '2011', '2012', '2013', '2014', '2015',\n",
              "        '2016', '2017'],\n",
              "       dtype='object'))"
            ]
          },
          "metadata": {
            "tags": []
          },
          "execution_count": 310
        }
      ]
    },
    {
      "metadata": {
        "colab_type": "code",
        "outputId": "31ff76d9-e062-4d42-e0c6-61ac790fdf6d",
        "id": "FROsFHv4dU0n",
        "colab": {
          "base_uri": "https://localhost:8080/",
          "height": 104
        }
      },
      "cell_type": "code",
      "source": [
        "from sklearn.linear_model import Ridge\n",
        "ridgereg = Ridge(alpha = 0.5, normalize = True)\n",
        "ridgereg.fit(x, y)\n",
        "r_squared = ridgereg.score(x,y)\n",
        "print(r_squared)\n",
        "\n",
        "coef = ridgereg.coef_\n",
        "intercept = ridgereg.intercept_\n",
        "print(\"Coefficients: \", coef, \"\\nIntercepts: \", intercept)"
      ],
      "execution_count": 0,
      "outputs": [
        {
          "output_type": "stream",
          "text": [
            "0.98617574506422\n",
            "Coefficients:  [ 0.0669089   0.10602662  0.05514079  0.09403898  0.04844428  0.06916695\n",
            "  0.15390165  0.01923418 -0.00985117  0.07430866  0.07267117  0.10762047\n",
            "  0.08289851  0.03919941  0.02184197 -0.01437314] \n",
            "Intercepts:  0.04969825998474464\n"
          ],
          "name": "stdout"
        }
      ]
    },
    {
      "metadata": {
        "colab_type": "code",
        "outputId": "6ec0488c-2e39-4c3e-e06a-e05219bcd002",
        "id": "k05qgN_7dU03",
        "colab": {
          "base_uri": "https://localhost:8080/",
          "height": 425
        }
      },
      "cell_type": "code",
      "source": [
        "fig, ax = plt.subplots(1,1)\n",
        "\n",
        "ax.scatter(keys, coef)\n",
        "ax.set_title(\"Ridge Regression Coefficients for Each Factor\")\n",
        "ax.set_xlabel(\"Factors\")\n",
        "ax.set_ylabel(\"Coefficients\")\n",
        "_ = plt.setp(ax.get_xticklabels(), rotation=30, horizontalalignment='right')"
      ],
      "execution_count": 0,
      "outputs": [
        {
          "output_type": "display_data",
          "data": {
            "image/png": "[encoded data removed]",
            "text/plain": [
              "<Figure size 576x396 with 1 Axes>"
            ]
          },
          "metadata": {
            "tags": []
          }
        }
      ]
    }
  ]
}